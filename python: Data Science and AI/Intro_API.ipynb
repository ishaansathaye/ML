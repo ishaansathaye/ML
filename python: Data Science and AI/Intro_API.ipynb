{
 "cells": [
  {
   "cell_type": "code",
   "execution_count": 1,
   "metadata": {
    "collapsed": false,
    "jupyter": {
     "outputs_hidden": false
    }
   },
   "outputs": [
    {
     "output_type": "stream",
     "name": "stdout",
     "text": "Collecting nba_api\n  Downloading nba_api-1.1.8-py3-none-any.whl (217 kB)\n\u001b[K     |████████████████████████████████| 217 kB 2.3 MB/s \n\u001b[?25hRequirement already satisfied: requests in /Library/Frameworks/Python.framework/Versions/3.8/lib/python3.8/site-packages (from nba_api) (2.23.0)\nRequirement already satisfied: urllib3!=1.25.0,!=1.25.1,<1.26,>=1.21.1 in /Library/Frameworks/Python.framework/Versions/3.8/lib/python3.8/site-packages (from requests->nba_api) (1.25.9)\nRequirement already satisfied: certifi>=2017.4.17 in /Library/Frameworks/Python.framework/Versions/3.8/lib/python3.8/site-packages (from requests->nba_api) (2020.4.5.1)\nRequirement already satisfied: chardet<4,>=3.0.2 in /Library/Frameworks/Python.framework/Versions/3.8/lib/python3.8/site-packages (from requests->nba_api) (3.0.4)\nRequirement already satisfied: idna<3,>=2.5 in /Library/Frameworks/Python.framework/Versions/3.8/lib/python3.8/site-packages (from requests->nba_api) (2.9)\nInstalling collected packages: nba-api\nSuccessfully installed nba-api-1.1.8\n\u001b[33mWARNING: You are using pip version 20.1; however, version 20.1.1 is available.\nYou should consider upgrading via the '/Library/Frameworks/Python.framework/Versions/3.8/bin/python3.8 -m pip install --upgrade pip' command.\u001b[0m\n"
    }
   ],
   "source": [
    "!pip install nba_api"
   ]
  },
  {
   "cell_type": "markdown",
   "metadata": {},
   "source": [
    "<h2 id=\"PandasAPI\">Pandas is an API </h2>"
   ]
  },
  {
   "cell_type": "markdown",
   "metadata": {},
   "source": [
    "You will use this function in the lab:"
   ]
  },
  {
   "cell_type": "code",
   "execution_count": 2,
   "metadata": {
    "collapsed": false,
    "jupyter": {
     "outputs_hidden": false
    }
   },
   "outputs": [],
   "source": [
    "def one_dict(list_dict):\n",
    "    keys=list_dict[0].keys()\n",
    "    out_dict={key:[] for key in keys}\n",
    "    for dict_ in list_dict:\n",
    "        for key, value in dict_.items():\n",
    "            out_dict[key].append(value)\n",
    "    return out_dict    "
   ]
  },
  {
   "cell_type": "markdown",
   "metadata": {},
   "source": [
    "<h2 id=\"PandasAPI\">Pandas is an API </h2>"
   ]
  },
  {
   "cell_type": "markdown",
   "metadata": {},
   "source": [
    "Pandas is actually set of software components , much of  witch is not even written in Python.\n"
   ]
  },
  {
   "cell_type": "code",
   "execution_count": 3,
   "metadata": {
    "collapsed": false,
    "jupyter": {
     "outputs_hidden": false
    }
   },
   "outputs": [],
   "source": [
    "import pandas as pd\n",
    "import matplotlib.pyplot as plt"
   ]
  },
  {
   "cell_type": "markdown",
   "metadata": {},
   "source": [
    "You create a dictionary, this is just data."
   ]
  },
  {
   "cell_type": "code",
   "execution_count": 4,
   "metadata": {
    "collapsed": false,
    "jupyter": {
     "outputs_hidden": false
    }
   },
   "outputs": [],
   "source": [
    "dict_={'a':[11,21,31],'b':[12,22,32]}"
   ]
  },
  {
   "cell_type": "markdown",
   "metadata": {},
   "source": [
    "When you create a Pandas object with the Dataframe constructor in API lingo, this is an \"instance\". The data in the dictionary is passed along to the pandas API. You then use the dataframe to communicate with the API."
   ]
  },
  {
   "cell_type": "code",
   "execution_count": 24,
   "metadata": {
    "collapsed": false,
    "jupyter": {
     "outputs_hidden": false
    }
   },
   "outputs": [
    {
     "output_type": "execute_result",
     "data": {
      "text/plain": "pandas.core.frame.DataFrame"
     },
     "metadata": {},
     "execution_count": 24
    }
   ],
   "source": [
    "df=pd.DataFrame(dict_)\n",
    "type(df)"
   ]
  },
  {
   "cell_type": "markdown",
   "metadata": {},
   "source": [
    "<img src = \"https://s3-api.us-geo.objectstorage.softlayer.net/cf-courses-data/CognitiveClass/PY0101EN/Chapter%206/images/pandas_api.png\" width = 800, align = \"center\" alt=\"logistic regression block diagram\" />"
   ]
  },
  {
   "cell_type": "markdown",
   "metadata": {},
   "source": [
    "When you call the method head the dataframe communicates with the API displaying the first few rows of the dataframe.\n",
    "\n",
    "\n"
   ]
  },
  {
   "cell_type": "code",
   "execution_count": 25,
   "metadata": {
    "collapsed": false,
    "jupyter": {
     "outputs_hidden": false
    }
   },
   "outputs": [
    {
     "output_type": "execute_result",
     "data": {
      "text/plain": "    a   b\n0  11  12\n1  21  22\n2  31  32",
      "text/html": "<div>\n<style scoped>\n    .dataframe tbody tr th:only-of-type {\n        vertical-align: middle;\n    }\n\n    .dataframe tbody tr th {\n        vertical-align: top;\n    }\n\n    .dataframe thead th {\n        text-align: right;\n    }\n</style>\n<table border=\"1\" class=\"dataframe\">\n  <thead>\n    <tr style=\"text-align: right;\">\n      <th></th>\n      <th>a</th>\n      <th>b</th>\n    </tr>\n  </thead>\n  <tbody>\n    <tr>\n      <th>0</th>\n      <td>11</td>\n      <td>12</td>\n    </tr>\n    <tr>\n      <th>1</th>\n      <td>21</td>\n      <td>22</td>\n    </tr>\n    <tr>\n      <th>2</th>\n      <td>31</td>\n      <td>32</td>\n    </tr>\n  </tbody>\n</table>\n</div>"
     },
     "metadata": {},
     "execution_count": 25
    }
   ],
   "source": [
    "df.head()"
   ]
  },
  {
   "cell_type": "markdown",
   "metadata": {},
   "source": [
    "When you call the method mean,the API will calculate the mean and return the value."
   ]
  },
  {
   "cell_type": "code",
   "execution_count": 26,
   "metadata": {
    "collapsed": false,
    "jupyter": {
     "outputs_hidden": false
    }
   },
   "outputs": [
    {
     "output_type": "execute_result",
     "data": {
      "text/plain": "a    21.0\nb    22.0\ndtype: float64"
     },
     "metadata": {},
     "execution_count": 26
    }
   ],
   "source": [
    "df.mean()"
   ]
  },
  {
   "cell_type": "markdown",
   "metadata": {},
   "source": [
    "<h2 id=\"ref1\">REST APIs</h2>"
   ]
  },
  {
   "cell_type": "markdown",
   "metadata": {},
   "source": [
    "<p>Rest API’s function by sending a <b>request</b>,  the request is communicated via HTTP message. The HTTP message usually contains a JSON file. This contains instructions for what operation we would like the service or <b>resource</b> to perform. In a similar manner, API returns a <b>response</b>, via an HTTP message, this response is usually contained within a JSON.</p>\n",
    "<p>In this lab, we will use the <a href=https://pypi.org/project/nba-api/>NBA API</a> to determine how well the Golden State Warriors performed against the Toronto Raptors. We will use the API do the determined number of points the Golden State Warriors won or lost by for each game. So if the value is three, the Golden State Warriors won by three points. Similarly it the  Golden State Warriors lost  by two points the result will be negative two. The API is reltivly  will handle a lot of the details such a Endpoints and Authentication </p>"
   ]
  },
  {
   "cell_type": "markdown",
   "metadata": {},
   "source": [
    "In the nba api to make a request for a specific team, it's quite simple, we don't require a JSON all we require is an id. This information is stored locally in the API we import the module teams "
   ]
  },
  {
   "cell_type": "code",
   "execution_count": 44,
   "metadata": {},
   "outputs": [],
   "source": [
    "from nba_api.stats.static import teams\n",
    "import matplotlib.pyplot as plt"
   ]
  },
  {
   "cell_type": "code",
   "execution_count": 28,
   "metadata": {},
   "outputs": [],
   "source": [
    "#https://pypi.org/project/nba-api/"
   ]
  },
  {
   "cell_type": "markdown",
   "metadata": {},
   "source": [
    "The method <code>get_teams()</code> returns a list of dictionaries  the dictionary key id has a unique identifier for each team as a value "
   ]
  },
  {
   "cell_type": "code",
   "execution_count": 29,
   "metadata": {},
   "outputs": [],
   "source": [
    "nba_teams = teams.get_teams()"
   ]
  },
  {
   "cell_type": "markdown",
   "metadata": {},
   "source": [
    "The dictionary key id has a unique identifier for each team as a value, let's look at the first three elements of the list:"
   ]
  },
  {
   "cell_type": "code",
   "execution_count": 30,
   "metadata": {},
   "outputs": [
    {
     "output_type": "execute_result",
     "data": {
      "text/plain": "[{'id': 1610612737,\n  'full_name': 'Atlanta Hawks',\n  'abbreviation': 'ATL',\n  'nickname': 'Hawks',\n  'city': 'Atlanta',\n  'state': 'Atlanta',\n  'year_founded': 1949},\n {'id': 1610612738,\n  'full_name': 'Boston Celtics',\n  'abbreviation': 'BOS',\n  'nickname': 'Celtics',\n  'city': 'Boston',\n  'state': 'Massachusetts',\n  'year_founded': 1946},\n {'id': 1610612739,\n  'full_name': 'Cleveland Cavaliers',\n  'abbreviation': 'CLE',\n  'nickname': 'Cavaliers',\n  'city': 'Cleveland',\n  'state': 'Ohio',\n  'year_founded': 1970}]"
     },
     "metadata": {},
     "execution_count": 30
    }
   ],
   "source": [
    "nba_teams[0:3]"
   ]
  },
  {
   "cell_type": "markdown",
   "metadata": {},
   "source": [
    "To make things easier, we can convert the dictionary to a table. First, we use the function <code>one dict</code>, to create a dictionary. We use the common keys for each team as the keys,  the value is a list; each element of the list corresponds to the values for each team.\n",
    "We then convert the dictionary to a dataframe, each row contains the information for a different team."
   ]
  },
  {
   "cell_type": "code",
   "execution_count": 31,
   "metadata": {},
   "outputs": [
    {
     "output_type": "execute_result",
     "data": {
      "text/plain": "           id             full_name abbreviation   nickname         city  \\\n0  1610612737         Atlanta Hawks          ATL      Hawks      Atlanta   \n1  1610612738        Boston Celtics          BOS    Celtics       Boston   \n2  1610612739   Cleveland Cavaliers          CLE  Cavaliers    Cleveland   \n3  1610612740  New Orleans Pelicans          NOP   Pelicans  New Orleans   \n4  1610612741         Chicago Bulls          CHI      Bulls      Chicago   \n\n           state  year_founded  \n0        Atlanta          1949  \n1  Massachusetts          1946  \n2           Ohio          1970  \n3      Louisiana          2002  \n4       Illinois          1966  ",
      "text/html": "<div>\n<style scoped>\n    .dataframe tbody tr th:only-of-type {\n        vertical-align: middle;\n    }\n\n    .dataframe tbody tr th {\n        vertical-align: top;\n    }\n\n    .dataframe thead th {\n        text-align: right;\n    }\n</style>\n<table border=\"1\" class=\"dataframe\">\n  <thead>\n    <tr style=\"text-align: right;\">\n      <th></th>\n      <th>id</th>\n      <th>full_name</th>\n      <th>abbreviation</th>\n      <th>nickname</th>\n      <th>city</th>\n      <th>state</th>\n      <th>year_founded</th>\n    </tr>\n  </thead>\n  <tbody>\n    <tr>\n      <th>0</th>\n      <td>1610612737</td>\n      <td>Atlanta Hawks</td>\n      <td>ATL</td>\n      <td>Hawks</td>\n      <td>Atlanta</td>\n      <td>Atlanta</td>\n      <td>1949</td>\n    </tr>\n    <tr>\n      <th>1</th>\n      <td>1610612738</td>\n      <td>Boston Celtics</td>\n      <td>BOS</td>\n      <td>Celtics</td>\n      <td>Boston</td>\n      <td>Massachusetts</td>\n      <td>1946</td>\n    </tr>\n    <tr>\n      <th>2</th>\n      <td>1610612739</td>\n      <td>Cleveland Cavaliers</td>\n      <td>CLE</td>\n      <td>Cavaliers</td>\n      <td>Cleveland</td>\n      <td>Ohio</td>\n      <td>1970</td>\n    </tr>\n    <tr>\n      <th>3</th>\n      <td>1610612740</td>\n      <td>New Orleans Pelicans</td>\n      <td>NOP</td>\n      <td>Pelicans</td>\n      <td>New Orleans</td>\n      <td>Louisiana</td>\n      <td>2002</td>\n    </tr>\n    <tr>\n      <th>4</th>\n      <td>1610612741</td>\n      <td>Chicago Bulls</td>\n      <td>CHI</td>\n      <td>Bulls</td>\n      <td>Chicago</td>\n      <td>Illinois</td>\n      <td>1966</td>\n    </tr>\n  </tbody>\n</table>\n</div>"
     },
     "metadata": {},
     "execution_count": 31
    }
   ],
   "source": [
    "dict_nba_team=one_dict(nba_teams)\n",
    "df_teams=pd.DataFrame(dict_nba_team)\n",
    "df_teams.head()"
   ]
  },
  {
   "cell_type": "markdown",
   "metadata": {},
   "source": [
    "Will use the team's nickname to find the unique id, we can see the row that contains the warriors by using the column nickname as follows:"
   ]
  },
  {
   "cell_type": "code",
   "execution_count": 32,
   "metadata": {
    "collapsed": false,
    "jupyter": {
     "outputs_hidden": false
    }
   },
   "outputs": [
    {
     "output_type": "execute_result",
     "data": {
      "text/plain": "           id              full_name abbreviation  nickname          city  \\\n7  1610612744  Golden State Warriors          GSW  Warriors  Golden State   \n\n        state  year_founded  \n7  California          1946  ",
      "text/html": "<div>\n<style scoped>\n    .dataframe tbody tr th:only-of-type {\n        vertical-align: middle;\n    }\n\n    .dataframe tbody tr th {\n        vertical-align: top;\n    }\n\n    .dataframe thead th {\n        text-align: right;\n    }\n</style>\n<table border=\"1\" class=\"dataframe\">\n  <thead>\n    <tr style=\"text-align: right;\">\n      <th></th>\n      <th>id</th>\n      <th>full_name</th>\n      <th>abbreviation</th>\n      <th>nickname</th>\n      <th>city</th>\n      <th>state</th>\n      <th>year_founded</th>\n    </tr>\n  </thead>\n  <tbody>\n    <tr>\n      <th>7</th>\n      <td>1610612744</td>\n      <td>Golden State Warriors</td>\n      <td>GSW</td>\n      <td>Warriors</td>\n      <td>Golden State</td>\n      <td>California</td>\n      <td>1946</td>\n    </tr>\n  </tbody>\n</table>\n</div>"
     },
     "metadata": {},
     "execution_count": 32
    }
   ],
   "source": [
    "df_warriors=df_teams[df_teams['nickname']=='Warriors']\n",
    "df_warriors"
   ]
  },
  {
   "cell_type": "markdown",
   "metadata": {},
   "source": [
    "we can use the following line of code to access the first column of the dataframe:"
   ]
  },
  {
   "cell_type": "code",
   "execution_count": 33,
   "metadata": {
    "collapsed": false,
    "jupyter": {
     "outputs_hidden": false
    }
   },
   "outputs": [
    {
     "output_type": "execute_result",
     "data": {
      "text/plain": "1610612744"
     },
     "metadata": {},
     "execution_count": 33
    }
   ],
   "source": [
    "id_warriors=df_warriors[['id']].values[0][0]\n",
    "#we now have an integer that can be used   to request the Warriors information \n",
    "id_warriors"
   ]
  },
  {
   "cell_type": "markdown",
   "metadata": {},
   "source": [
    "The function \"League Game Finder \" will make an API call, its in the module <code>stats.endpoints</code> "
   ]
  },
  {
   "cell_type": "code",
   "execution_count": 34,
   "metadata": {},
   "outputs": [],
   "source": [
    "from nba_api.stats.endpoints import leaguegamefinder"
   ]
  },
  {
   "cell_type": "markdown",
   "metadata": {},
   "source": [
    "The parameter <code>team_id_nullable</code> is the unique ID for the warriors. Under the hood, the NBA API is making a HTTP request.  \n",
    "The information requested is provided and is transmitted via an HTTP response this is assigned to the object <code>gamefinder</code>."
   ]
  },
  {
   "cell_type": "code",
   "execution_count": 48,
   "metadata": {
    "collapsed": false,
    "jupyter": {
     "outputs_hidden": false
    }
   },
   "outputs": [],
   "source": [
    "# Since https://stats.nba.com does lot allow api calls from Cloud IPs and Skills Network Labs uses a Cloud IP.\n",
    "# The following code is comment out, you can run it on jupyter labs on your own computer.\n",
    "gamefinder = leaguegamefinder.LeagueGameFinder(team_id_nullable=id_warriors)"
   ]
  },
  {
   "cell_type": "markdown",
   "metadata": {},
   "source": [
    "we can see the json file by running the following line of code. "
   ]
  },
  {
   "cell_type": "code",
   "execution_count": 49,
   "metadata": {},
   "outputs": [
    {
     "output_type": "execute_result",
     "data": {
      "text/plain": "s. POR\", \"W\", 240, 105, 43, 85, 0.506, 0, 1, 0.0, 19, 24, 0.792, 12, 27, 39, 21, 13, 6, 17, 18, null], [\"21984\", 1610612744, \"GOS\", \"Golden State Warriors\", \"0028400259\", \"1984-12-12\", \"GOS @ LAL\", \"L\", 240, 107, 39, 97, 0.402, 0, 3, 0.0, 29, 40, 0.725, 14, 22, 36, 24, 9, 7, 13, 33, null], [\"21984\", 1610612744, \"GOS\", \"Golden State Warriors\", \"0028400254\", \"1984-12-11\", \"GOS vs. LAC\", \"L\", 240, 104, 43, 96, 0.448, 2, 10, 0.2, 16, 20, 0.8, 16, 19, 35, 20, 15, 1, 16, 24, null], [\"21984\", 1610612744, \"GOS\", \"Golden State Warriors\", \"0028400239\", \"1984-12-08\", \"GOS vs. PHX\", \"L\", 240, 98, 40, 99, 0.404, 1, 6, 0.167, 17, 23, 0.739, 20, 27, 47, 23, 9, 0, 14, 26, null], [\"21984\", 1610612744, \"GOS\", \"Golden State Warriors\", \"0028400222\", \"1984-12-06\", \"GOS vs. HOU\", \"W\", 240, 114, 37, 80, 0.463, 1, 2, 0.5, 39, 49, 0.796, 13, 20, 33, 17, 6, 4, 15, 24, null], [\"21984\", 1610612744, \"GOS\", \"Golden State Warriors\", \"0028400212\", \"1984-12-04\", \"GOS vs. UTH\", \"L\", 240, 105, 44, 109, 0.404, 0, 3, 0.0, 17, 26, 0.654, 25, 35, 60, 16, 7, 5, 14, 24, null], [\"21984\", 1610612744, \"GOS\", \"Golden State Warriors\", \"0028400203\", \"1984-12-01\", \"GOS @ PHX\", \"L\", 240, 103, 40, 92, 0.435, 0, 5, 0.0, 23, 33, 0.697, 17, 21, 38, 14, 13, 2, 13, 25, null], [\"21984\", 1610612744, \"GOS\", \"Golden State Warriors\", \"0028400186\", \"1984-11-29\", \"GOS vs. KCK\", \"W\", 240, 110, 48, 102, 0.471, 2, 7, 0.286, 12, 18, 0.667, 22, 27, 49, 22, 11, 4, 19, 24, null], [\"21984\", 1610612744, \"GOS\", \"Golden State Warriors\", \"0028400171\", \"1984-11-27\", \"GOS vs. CHI\", \"W\", 240, 109, 44, 94, 0.468, 1, 2, 0.5, 20, 28, 0.714, 22, 31, 53, 22, 5, 2, 14, 15, null], [\"21984\", 1610612744, \"GOS\", \"Golden State Warriors\", \"0028400155\", \"1984-11-24\", \"GOS @ MIL\", \"L\", 240, 97, 40, 92, 0.435, 2, 8, 0.25, 15, 19, 0.789, 23, 19, 42, 23, 8, 3, 20, 24, null], [\"21984\", 1610612744, \"GOS\", \"Golden State Warriors\", \"0028400152\", \"1984-11-23\", \"GOS @ CLE\", \"W\", 240, 107, 46, 86, 0.535, 3, 6, 0.5, 12, 14, 0.857, 14, 19, 33, 28, 11, 3, 18, 21, null], [\"21984\", 1610612744, \"GOS\", \"Golden State Warriors\", \"0028400143\", \"1984-11-21\", \"GOS @ BOS\", \"L\", 240, 91, 41, 94, 0.436, 1, 3, 0.333, 8, 13, 0.615, 14, 15, 29, 20, 5, 2, 19, 22, null], [\"21984\", 1610612744, \"GOS\", \"Golden State Warriors\", \"0028400131\", \"1984-11-20\", \"GOS @ NYK\", \"L\", 240, 101, 35, 69, 0.507, 2, 5, 0.4, 29, 40, 0.725, 16, 23, 39, 19, 11, 8, 24, 33, null], [\"21984\", 1610612744, \"GOS\", \"Golden State Warriors\", \"0028400119\", \"1984-11-17\", \"GOS vs. NJN\", \"L\", 239, 114, 39, 78, 0.5, 5, 7, 0.714, 31, 34, 0.912, 12, 24, 36, 24, 7, 0, 19, 21, null], [\"21984\", 1610612744, \"GOS\", \"Golden State Warriors\", \"0028400110\", \"1984-11-15\", \"GOS vs. DAL\", \"W\", 240, 117, 48, 87, 0.552, 1, 4, 0.25, 20, 26, 0.769, 12, 33, 45, 21, 4, 4, 13, 19, null], [\"21984\", 1610612744, \"GOS\", \"Golden State Warriors\", \"0028400101\", \"1984-11-13\", \"GOS @ SEA\", \"L\", 240, 102, 35, 81, 0.432, 1, 3, 0.333, 31, 37, 0.838, 13, 25, 38, 26, 10, 3, 16, 28, null], [\"21984\", 1610612744, \"GOS\", \"Golden State Warriors\", \"0028400091\", \"1984-11-11\", \"GOS @ POR\", \"L\", 240, 97, 36, 80, 0.45, 0, 5, 0.0, 25, 29, 0.862, 8, 27, 35, 18, 10, 3, 24, 41, null], [\"21984\", 1610612744, \"GOS\", \"Golden State Warriors\", \"0028400080\", \"1984-11-09\", \"GOS @ UTH\", \"L\", 265, 117, 43, 101, 0.426, 2, 9, 0.222, 29, 33, 0.879, 17, 40, 57, 21, 15, 6, 24, 31, null], [\"21984\", 1610612744, \"GOS\", \"Golden State Warriors\", \"0028400075\", \"1984-11-08\", \"GOS vs. LAL\", \"W\", 238, 122, 50, 101, 0.495, 1, 3, 0.333, 21, 27, 0.778, 20, 32, 52, 24, 13, 2, 17, 30, null], [\"21984\", 1610612744, \"GOS\", \"Golden State Warriors\", \"0028400051\", \"1984-11-03\", \"GOS vs. UTH\", \"W\", 240, 112, 46, 100, 0.46, 1, 2, 0.5, 19, 29, 0.655, 16, 32, 48, 24, 5, 3, 6, 25, null], [\"21984\", 1610612744, \"GOS\", \"Golden State Warriors\", \"0028400039\", \"1984-11-01\", \"GOS vs. SAN\", \"L\", 240, 108, 46, 96, 0.479, 0, 1, 0.0, 16, 25, 0.64, 23, 28, 51, 26, 10, 2, 24, 26, null], [\"21984\", 1610612744, \"GOS\", \"Golden State Warriors\", \"0028400020\", \"1984-10-30\", \"GOS @ LAL\", \"L\", 240, 110, 49, 111, 0.441, 0, 3, 0.0, 12, 20, 0.6, 23, 19, 42, 22, 12, 1, 18, 24, null], [\"21984\", 1610612744, \"GOS\", \"Golden State Warriors\", \"0028400008\", \"1984-10-27\", \"GOS @ DEN\", \"L\", 240, 121, 48, 94, 0.511, 2, 3, 0.667, 23, 27, 0.852, 15, 30, 45, 20, 9, 6, 29, 30, null], [\"21984\", 1610612744, \"GOS\", \"Golden State Warriors\", \"0028400006\", \"1984-10-26\", \"GOS vs. PHX\", \"L\", 235, 114, 42, 85, 0.494, 2, 6, 0.333, 28, 39, 0.718, null, null, null, 20, 9, 8, 17, 30, null], [\"21983\", 1610612744, \"GOS\", \"Golden State Warriors\", \"0028300938\", \"1984-04-15\", \"GOS vs. DAL\", \"W\", 240, 98, 43, 90, 0.478, 0, 5, 0.0, 12, 21, 0.571, 21, 29, 50, 20, 14, 4, 24, 19, null], [\"21983\", 1610612744, \"GOS\", \"Golden State Warriors\", \"0028300926\", \"1984-04-13\", \"GOS @ POR\", \"L\", 240, 101, 39, 80, 0.488, 1, 2, 0.5, 22, 31, 0.71, 11, 28, 39, 22, 7, 1, 18, 24, null], [\"21983\", 1610612744, \"GOS\", \"Golden State Warriors\", \"0028300923\", \"1984-04-12\", \"GOS @ SEA\", \"L\", 240, 100, 42, 83, 0.506, 1, 4, 0.25, 15, 18, 0.833, 10, 22, 32, 30, 11, 3, 17, 26, null], [\"21983\", 1610612744, \"GOS\", \"Golden State Warriors\", \"0028300910\", \"1984-04-10\", \"GOS vs. LAL\", \"W\", 240, 117, 47, 95, 0.495, 3, 6, 0.5, 20, 32, 0.625, 19, 24, 43, 19, 6, 3, 9, 29, null], [\"21983\", 1610612744, \"GOS\", \"Golden State Warriors\", \"0028300892\", \"1984-04-07\", \"GOS vs. KCK\", \"W\", 240, 98, 37, 86, 0.43, 0, 2, 0.0, 24, 30, 0.8, 18, 30, 48, 16, 12, 1, 20, 24, null], [\"21983\", 1610612744, \"GOS\", \"Golden State Warriors\", \"0028300881\", \"1984-04-05\", \"GOS @ DEN\", \"W\", 240, 128, 49, 85, 0.576, 5, 7, 0.714, 25, 35, 0.714, 10, 31, 41, 32, 7, 5, 14, 28, null], [\"21983\", 1610612744, \"GOS\", \"Golden State Warriors\", \"0028300865\", \"1984-04-03\", \"GOS vs. HOU\", \"W\", 240, 99, 40, 86, 0.465, 1, 1, 1.0, 18, 24, 0.75, 15, 24, 39, 20, 12, 6, 18, 24, null], [\"21983\", 1610612744, \"GOS\", \"Golden State Warriors\", \"0028300860\", \"1984-04-01\", \"GOS @ LAL\", \"L\", 240, 110, 40, 86, 0.465, 0, 1, 0.0, 30, 38, 0.789, 16, 21, 37, 20, 14, 2, 17, 24, null], [\"21983\", 1610612744, \"GOS\", \"Golden State Warriors\", \"0028300844\", \"1984-03-30\", \"GOS @ SDC\", \"L\", 240, 112, 47, 95, 0.495, 3, 6, 0.5, 15, 19, 0.789, 14, 22, 36, 24, 8, 5, 12, 19, null], [\"21983\", 1610612744, \"GOS\", \"Golden State Warriors\", \"0028300841\", \"1984-03-29\", \"GOS @ PHX\", \"L\", 265, 119, 44, 88, 0.5, 3, 5, 0.6, 28, 36, 0.778, 15, 26, 41, 18, 5, 4, 22, 31, null], [\"21983\", 1610612744, \"GOS\", \"Golden State Warriors\", \"0028300829\", \"1984-03-27\", \"GOS @ SAN\", \"L\", 265, 116, 49, 96, 0.51, 0, 2, 0.0, 18, 25, 0.72, 14, 35, 49, 27, 8, 4, 24, 26, null], [\"21983\", 1610612744, \"GOS\", \"Golden State Warriors\", \"0028300814\", \"1984-03-24\", \"GOS vs. POR\", \"L\", 240, 94, 38, 92, 0.413, 0, 2, 0.0, 18, 22, 0.818, 17, 30, 47, 17, 13, 3, 23, 27, null], [\"21983\", 1610612744, \"GOS\", \"Golden State Warriors\", \"0028300807\", \"1984-03-23\", \"GOS @ UTH\", \"W\", 240, 115, 44, 92, 0.478, 0, 3, 0.0, 27, 30, 0.9, 17, 26, 43, 25, 12, 6, 21, 27, null], [\"21983\", 1610612744, \"GOS\", \"Golden State Warriors\", \"0028300785\", \"1984-03-20\", \"GOS vs. SEA\", \"W\", 240, 103, 41, 76, 0.539, 0, 2, 0.0, 21, 28, 0.75, 12, 26, 38, 22, 6, 8, 20, 25, null], [\"21983\", 1610612744, \"GOS\", \"Golden State Warriors\", \"0028300776\", \"1984-03-18\", \"GOS @ SEA\", \"L\", 240, 99, 40, 93, 0.43, 0, 3, 0.0, 19, 25, 0.76, 18, 22, 40, 27, 10, 3, 18, 29, null], [\"21983\", 1610612744, \"GOS\", \"Golden State Warriors\", \"0028300767\", \"1984-03-17\", \"GOS @ POR\", \"L\", 240, 96, 36, 84, 0.429, 1, 5, 0.2, 23, 31, 0.742, 16, 15, 31, 17, 11, 4, 35, 29, null], [\"21983\", 1610612744, \"GOS\", \"Golden State Warriors\", \"0028300756\", \"1984-03-15\", \"GOS vs. UTH\", \"L\", 240, 111, 44, 104, 0.423, 4, 8, 0.5, 19, 30, 0.633, 25, 23, 48, 19, 13, 5, 16, 22, null], [\"21983\", 1610612744, \"GOS\", \"Golden State Warriors\", \"0028300747\", \"1984-03-13\", \"GOS vs. CHI\", \"L\", 240, 101, 42, 84, 0.5, 2, 7, 0.286, 15, 26, 0.577, 17, 18, 35, 21, 13, 3, 24, 21, null], [\"21983\", 1610612744, \"GOS\", \"Golden State Warriors\", \"0028300734\", \"1984-03-11\", \"GOS @ KCK\", \"W\", 240, 115, 41, 82, 0.5, 0, 2, 0.0, 33, 39, 0.846, 17, 26, 43, 19, 10, 8, 22, 23, null], [\"21983\", 1610612744, \"GOS\", \"Golden State Warriors\", \"0028300727\", \"1984-03-10\", \"GOS @ DAL\", \"L\", 240, 103, 45, 90, 0.5, 2, 9, 0.222, 11, 19, 0.579, 14, 23, 37, 16, 6, 2, 13, 25, null], [\"21983\", 1610612744, \"GOS\", \"Golden State Warriors\", \"0028300706\", \"1984-03-06\", \"GOS vs. IND\", \"W\", 240, 125, 46, 82, 0.561, 0, 2, 0.0, 33, 46, 0.717, 12, 30, 42, 29, 11, 5, 22, 19, null], [\"21983\", 1610612744, \"GOS\", \"Golden State Warriors\", \"0028300692\", \"1984-03-03\", \"GOS vs. HOU\", \"L\", 240, 106, 41, 93, 0.441, 0, 0, null, 24, 32, 0.75, 15, 32, 47, 24, 9, 3, 17, 22, null], [\"21983\", 1610612744, \"GOS\", \"Golden State Warriors\", \"0028300686\", \"1984-03-02\", \"GOS @ SDC\", \"W\", 240, 110, 40, 87, 0.46, 0, 0, null, 30, 35, 0.857, 17, 22, 39, 18, 18, 7, 19, 33, null], [\"21983\", 1610612744, \"GOS\", \"Golden State Warriors\", \"0028300666\", \"1984-02-28\", \"GOS vs. DEN\", \"W\", 265, 140, 48, 101, 0.475, 0, 0, null, 44, 60, 0.733, 26, 31, 57, 23, 14, 6, 21, 32, null], [\"21983\", 1610612744, \"GOS\", \"Golden State Warriors\", \"0028300648\", \"1984-02-25\", \"GOS @ HOU\", \"W\", 240, 118, 44, 89, 0.494, 1, 2, 0.5, 29, 38, 0.763, 17, 32, 49, 20, 13, 2, 19, 23, null], [\"21983\", 1610612744, \"GOS\", \"Golden State Warriors\", \"0028300637\", \"1984-02-23\", \"GOS vs. SDC\", \"L\", 240, 103, 46, 101, 0.455, 0, 2, 0.0, 11, 16, 0.688, 25, 15, 40, 24, 5, 3, 17, 24, null], [\"21983\", 1610612744, \"GOS\", \"Golden State Warriors\", \"0028300619\", \"1984-02-21\", \"GOS vs. DEN\", \"W\", 240, 135, 55, 93, 0.591, 0, 2, 0.0, 25, 31, 0.806, 11, 34, 45, 32, 7, 10, 23, 17, null], [\"21983\", 1610612744, \"GOS\", \"Golden State Warriors\", \"0028300610\", \"1984-02-18\", \"GOS vs. WAS\", \"W\", 240, 113, 43, 79, 0.544, 1, 3, 0.333, 26, 36, 0.722, 8, 25, 33, 22, 9, 5, 15, 27, null], [\"21983\", 1610612744, \"GOS\", \"Golden State Warriors\", \"0028300597\", \"1984-02-16\", \"GOS vs. BOS\", \"L\", 240, 115, 51, 105, 0.486, 3, 6, 0.5, 10, 16, 0.625, 19, 23, 42, 24, 12, 2, 9, 28, null], [\"21983\", 1610612744, \"GOS\", \"Golden State Warriors\", \"0028300581\", \"1984-02-14\", \"GOS vs. SEA\", \"W\", 240, 105, 44, 86, 0.512, 0, 1, 0.0, 17, 21, 0.81, 13, 24, 37, 26, 11, 5, 17, 16, null], [\"21983\", 1610612744, \"GOS\", \"Golden State Warriors\", \"0028300572\", \"1984-02-11\", \"GOS @ CHI\", \"L\", 240, 96, 41, 94, 0.436, 0, 7, 0.0, 14, 15, 0.933, 11, 29, 40, 24, 9, 4, 17, 31, null], [\"21983\", 1610612744, \"GOS\", \"Golden State Warriors\", \"0028300561\", \"1984-02-10\", \"GOS @ DET\", \"L\", 240, 116, 45, 106, 0.425, 0, 3, 0.0, 26, 34, 0.765, 20, 27, 47, 34, 9, 5, 21, 22, null], [\"21983\", 1610612744, \"GOS\", \"Golden State Warriors\", \"0028300549\", \"1984-02-08\", \"GOS @ CLE\", \"L\", 240, 108, 46, 105, 0.438, 0, 3, 0.0, 16, 21, 0.762, 23, 27, 50, 26, 7, 5, 16, 17, null], [\"21983\", 1610612744, \"GOS\", \"Golden State Warriors\", \"0028300538\", \"1984-02-06\", \"GOS @ NYK\", \"L\", 240, 94, 37, 87, 0.425, 1, 2, 0.5, 19, 22, 0.864, 12, 26, 38, 24, 9, 3, 19, 25, null], [\"21983\", 1610612744, \"GOS\", \"Golden State Warriors\", \"0028300526\", \"1984-02-04\", \"GOS vs. PHX\", \"W\", 240, 107, 42, 87, 0.483, 3, 4, 0.75, 20, 25, 0.8, 17, 34, 51, 20, 8, 3, 26, 32, null], [\"21983\", 1610612744, \"GOS\", \"Golden State Warriors\", \"0028300515\", \"1984-02-02\", \"GOS vs. SAN\", \"W\", 240, 117, 45, 102, 0.441, 1, 3, 0.333, 26, 32, 0.813, 30, 36, 66, 21, 10, 2, 25, 26, null], [\"21983\", 1610612744, \"GOS\", \"Golden State Warriors\", \"0028300500\", \"1984-01-31\", \"GOS vs. MIL\", \"L\", 265, 119, 48, 107, 0.449, 0, 3, 0.0, 23, 34, 0.676, 22, 26, 48, 26, 11, 2, 13, 26, null], [\"21983\", 1610612744, \"GOS\", \"Golden State Warriors\", \"0028300492\", \"1984-01-26\", \"GOS @ SAN\", \"L\", 240, 116, 49, 98, 0.5, 0, 6, 0.0, 18, 23, 0.783, 18, 30, 48, 34, 8, 6, 18, 29, null], [\"21983\", 1610612744, \"GOS\", \"Golden State Warriors\", \"0028300487\", \"1984-01-25\", \"GOS @ DAL\", \"L\", 265, 110, 46, 91, 0.505, 0, 1, 0.0, 18, 20, 0.9, 7, 33, 40, 29, 11, 1, 24, 24, null], [\"21983\", 1610612744, \"GOS\", \"Golden State Warriors\", \"0028300480\", \"1984-01-24\", \"GOS @ HOU\", \"L\", 240, 98, 37, 111, 0.333, 2, 4, 0.5, 22, 27, 0.815, 23, 34, 57, 17, 9, 1, 18, 23, null], [\"21983\", 1610612744, \"GOS\", \"Golden State Warriors\", \"0028300471\", \"1984-01-21\", \"GOS @ DEN\", \"L\", 240, 115, 44, 89, 0.494, 1, 4, 0.25, 26, 39, 0.667, 13, 25, 38, 24, 10, 9, 18, 31, null], [\"21983\", 1610612744, \"GOS\", \"Golden State Warriors\", \"0028300452\", \"1984-01-19\", \"GOS vs. POR\", \"W\", 240, 107, 43, 87, 0.494, 0, 2, 0.0, 21, 30, 0.7, 14, 33, 47, 23, 6, 12, 17, 19, null], [\"21983\", 1610612744, \"GOS\", \"Golden State Warriors\", \"0028300438\", \"1984-01-17\", \"GOS vs. SDC\", \"W\", 240, 123, 52, 99, 0.525, 0, 2, 0.0, 19, 22, 0.864, 22, 30, 52, 24, 9, 4, 14, 28, null], [\"21983\", 1610612744, \"GOS\", \"Golden State Warriors\", \"0028300425\", \"1984-01-14\", \"GOS @ PHL\", \"L\", 240, 103, 37, 91, 0.407, 0, 3, 0.0, 29, 41, 0.707, 22, 23, 45, 17, 14, 8, 27, 30, null], [\"21983\", 1610612744, \"GOS\", \"Golden State Warriors\", \"0028300421\", \"1984-01-13\", \"GOS @ NJN\", \"W\", 240, 114, 42, 89, 0.472, 0, 1, 0.0, 30, 41, 0.732, 16, 26, 42, 17, 16, 5, 26, 30, null], [\"21983\", 1610612744, \"GOS\", \"Golden State Warriors\", \"0028300406\", \"1984-01-11\", \"GOS @ BOS\", \"L\", 240, 112, 46, 86, 0.535, 0, 1, 0.0, 20, 23, 0.87, 12, 15, 27, 21, 6, 7, 20, 16, null], [\"21983\", 1610612744, \"GOS\", \"Golden State Warriors\", \"0028300396\", \"1984-01-10\", \"GOS @ ATL\", \"L\", 240, 101, 40, 90, 0.444, 1, 4, 0.25, 20, 29, 0.69, 17, 24, 41, 17, 8, 3, 9, 22, null], [\"21983\", 1610612744, \"GOS\", \"Golden State Warriors\", \"0028300383\", \"1984-01-07\", \"GOS vs. SAN\", \"W\", 240, 154, 62, 125, 0.496, 2, 4, 0.5, 28, 34, 0.824, 27, 38, 65, 32, 10, 5, 15, 37, null], [\"21983\", 1610612744, \"GOS\", \"Golden State Warriors\", \"0028300355\", \"1984-01-03\", \"GOS vs. PHL\", \"W\", 240, 115, 41, 82, 0.5, 0, 2, 0.0, 33, 39, 0.846, 14, 22, 36, 21, 13, 7, 17, 29, null], [\"21983\", 1610612744, \"GOS\", \"Golden State Warriors\", \"0028300348\", \"1983-12-30\", \"GOS @ LAL\", \"W\", 240, 116, 42, 92, 0.457, 1, 3, 0.333, 31, 47, 0.66, 21, 26, 47, 23, 11, 5, 10, 22, null], [\"21983\", 1610612744, \"GOS\", \"Golden State Warriors\", \"0028300334\", \"1983-12-28\", \"GOS @ PHX\", \"L\", 240, 105, 39, 86, 0.453, 3, 6, 0.5, 24, 37, 0.649, 12, 27, 39, 16, 7, 0, 26, 24, null], [\"21983\", 1610612744, \"GOS\", \"Golden State Warriors\", \"0028300326\", \"1983-12-27\", \"GOS vs. UTH\", \"L\", 240, 102, 42, 102, 0.412, 0, 5, 0.0, 18, 26, 0.692, 20, 30, 50, 23, 11, 6, 18, 27, null], [\"21983\", 1610612744, \"GOS\", \"Golden State Warriors\", \"0028300312\", \"1983-12-23\", \"GOS @ LAL\", \"L\", 240, 116, 49, 96, 0.51, 1, 2, 0.5, 17, 23, 0.739, 16, 21, 37, 30, 13, 4, 14, 23, null], [\"21983\", 1610612744, \"GOS\", \"Golden State Warriors\", \"0028300303\", \"1983-12-22\", \"GOS vs. LAL\", \"W\", 240, 109, 44, 89, 0.494, 0, 1, 0.0, 21, 26, 0.808, 16, 32, 48, 25, 10, 4, 23, 27, null], [\"21983\", 1610612744, \"GOS\", \"Golden State Warriors\", \"0028300293\", \"1983-12-20\", \"GOS vs. PHX\", \"L\", 240, 105, 40, 88, 0.455, 0, 3, 0.0, 25, 38, 0.658, 17, 38, 55, 20, 7, 2, 16, 20, null], [\"21983\", 1610612744, \"GOS\", \"Golden State Warriors\", \"0028300288\", \"1983-12-18\", \"GOS vs. SDC\", \"W\", 240, 99, 40, 97, 0.412, 0, 0, null, 19, 29, 0.655, 27, 25, 52, 18, 7, 5, 16, 27, null], [\"21983\", 1610612744, \"GOS\", \"Golden State Warriors\", \"0028300283\", \"1983-12-17\", \"GOS @ UTH\", \"L\", 240, 111, 47, 91, 0.516, 1, 4, 0.25, 16, 25, 0.64, 17, 24, 41, 28, 8, 5, 26, 27, null], [\"21983\", 1610612744, \"GOS\", \"Golden State Warriors\", \"0028300270\", \"1983-12-15\", \"GOS vs. KCK\", \"W\", 240, 119, 42, 82, 0.512, 0, 0, null, 35, 52, 0.673, 13, 32, 45, 20, 19, 1, 17, 24, null], [\"21983\", 1610612744, \"GOS\", \"Golden State Warriors\", \"0028300254\", \"1983-12-13\", \"GOS vs. NJN\", \"L\", 240, 122, 45, 100, 0.45, 3, 4, 0.75, 29, 40, 0.725, 20, 25, 45, 20, 7, 3, 16, 32, null], [\"21983\", 1610612744, \"GOS\", \"Golden State Warriors\", \"0028300249\", \"1983-12-11\", \"GOS @ POR\", \"L\", 240, 101, 38, 85, 0.447, 0, 1, 0.0, 25, 31, 0.806, 18, 20, 38, 19, 7, 9, 18, 31, null], [\"21983\", 1610612744, \"GOS\", \"Golden State Warriors\", \"0028300241\", \"1983-12-10\", \"GOS vs. DAL\", \"L\", 265, 123, 44, 99, 0.444, 0, 2, 0.0, 35, 41, 0.854, 22, 24, 46, 22, 7, 4, 11, 24, null], [\"21983\", 1610612744, \"GOS\", \"Golden State Warriors\", \"0028300229\", \"1983-12-08\", \"GOS vs. DET\", \"W\", 240, 130, 51, 103, 0.495, 0, 1, 0.0, 28, 39, 0.718, 24, 22, 46, 21, 9, 4, 12, 27, null], [\"21983\", 1610612744, \"GOS\", \"Golden State Warriors\", \"0028300216\", \"1983-12-06\", \"GOS vs. SEA\", \"W\", 240, 108, 41, 88, 0.466, 0, 1, 0.0, 26, 34, 0.765, 13, 37, 50, 21, 9, 5, 17, 22, null], [\"21983\", 1610612744, \"GOS\", \"Golden State Warriors\", \"0028300199\", \"1983-12-02\", \"GOS @ SDC\", \"L\", 240, 108, 43, 88, 0.489, 0, 1, 0.0, 22, 24, 0.917, 12, 21, 33, 20, 12, 6, 16, 18, null], [\"21983\", 1610612744, \"GOS\", \"Golden State Warriors\", \"0028300192\", \"1983-12-01\", \"GOS vs. KCK\", \"W\", 240, 106, 44, 101, 0.436, 0, 2, 0.0, 18, 27, 0.667, 18, 35, 53, 20, 5, 8, 14, 25, null], [\"21983\", 1610612744, \"GOS\", \"Golden State Warriors\", \"0028300182\", \"1983-11-29\", \"GOS vs. LAL\", \"L\", 240, 105, 40, 84, 0.476, 1, 4, 0.25, 24, 28, 0.857, 12, 25, 37, 22, 11, 4, 20, 25, null], [\"21983\", 1610612744, \"GOS\", \"Golden State Warriors\", \"0028300165\", \"1983-11-26\", \"GOS @ DAL\", \"L\", 240, 109, 45, 84, 0.536, 0, 1, 0.0, 19, 29, 0.655, 9, 22, 31, 23, 13, 3, 19, 24, null], [\"21983\", 1610612744, \"GOS\", \"Golden State Warriors\", \"0028300154\", \"1983-11-25\", \"GOS @ IND\", \"W\", 240, 110, 45, 104, 0.433, 0, 1, 0.0, 20, 24, 0.833, 28, 19, 47, 25, 16, 2, 17, 20, null], [\"21983\", 1610612744, \"GOS\", \"Golden State Warriors\", \"0028300143\", \"1983-11-23\", \"GOS @ MIL\", \"L\", 240, 94, 37, 98, 0.378, 0, 0, null, 20, 25, 0.8, 24, 21, 45, 19, 7, 6, 18, 23, null], [\"21983\", 1610612744, \"GOS\", \"Golden State Warriors\", \"0028300138\", \"1983-11-22\", \"GOS @ WAS\", \"W\", 240, 102, 40, 79, 0.506, 0, 0, null, 22, 32, 0.688, 7, 33, 40, 20, 9, 5, 14, 29, null], [\"21983\", 1610612744, \"GOS\", \"Golden State Warriors\", \"0028300130\", \"1983-11-19\", \"GOS @ HOU\", \"L\", 240, 105, 45, 90, 0.5, 0, 1, 0.0, 15, 28, 0.536, 10, 23, 33, 19, 10, 6, 14, 22, null], [\"21983\", 1610612744, \"GOS\", \"Golden State Warriors\", \"0028300111\", \"1983-11-17\", \"GOS vs. DEN\", \"L\", 240, 120, 42, 95, 0.442, 0, 2, 0.0, 36, 45, 0.8, 20, 31, 51, 20, 16, 4, 20, 27, null], [\"21983\", 1610612744, \"GOS\", \"Golden State Warriors\", \"0028300102\", \"1983-11-15\", \"GOS vs. SAN\", \"W\", 240, 115, 47, 102, 0.461, 0, 3, 0.0, 21, 32, 0.656, 16, 24, 40, 26, 12, 2, 12, 26, null], [\"21983\", 1610612744, \"GOS\", \"Golden State Warriors\", \"0028300097\", \"1983-11-13\", \"GOS @ PHX\", \"L\", 240, 98, 35, 88, 0.398, 0, 4, 0.0, 28, 39, 0.718, 13, 25, 38, 15, 12, 3, 18, 27, null], [\"21983\", 1610612744, \"GOS\", \"Golden State Warriors\", \"0028300087\", \"1983-11-12\", \"GOS vs. CLE\", \"W\", 240, 109, 38, 86, 0.442, 0, 1, 0.0, 33, 50, 0.66, 19, 32, 51, 23, 6, 2, 20, 32, null], [\"21983\", 1610612744, \"GOS\", \"Golden State Warriors\", \"0028300076\", \"1983-11-10\", \"GOS vs. PHX\", \"L\", 240, 99, 37, 87, 0.425, 0, 1, 0.0, 25, 32, 0.781, 13, 22, 35, 16, 8, 3, 18, 30, null], [\"21983\", 1610612744, \"GOS\", \"Golden State Warriors\", \"0028300060\", \"1983-11-08\", \"GOS vs. ATL\", \"W\", 240, 97, 31, 78, 0.397, 1, 3, 0.333, 34, 47, 0.723, 17, 29, 46, 21, 9, 3, 18, 26, null], [\"21983\", 1610612744, \"GOS\", \"Golden State Warriors\", \"0028300048\", \"1983-11-05\", \"GOS vs. NYK\", \"W\", 240, 102, 35, 92, 0.38, 0, 1, 0.0, 32, 45, 0.711, 25, 18, 43, 20, 16, 4, 17, 27, null], [\"21983\", 1610612744, \"GOS\", \"Golden State Warriors\", \"0028300040\", \"1983-11-03\", \"GOS @ UTH\", \"L\", 240, 112, 44, 115, 0.383, 2, 5, 0.4, 22, 25, 0.88, 27, 26, 53, 22, 11, 4, 19, 31, null], [\"21983\", 1610612744, \"GOS\", \"Golden State Warriors\", \"0028300029\", \"1983-11-01\", \"GOS @ KCK\", \"L\", 240, 114, 42, 91, 0.462, 0, 2, 0.0, 30, 40, 0.75, 12, 18, 30, 29, 15, 3, 16, 28, null], [\"21983\", 1610612744, \"GOS\", \"Golden State Warriors\", \"0028300013\", \"1983-10-29\", \"GOS vs. POR\", \"W\", 240, 97, 34, 76, 0.447, 0, 2, 0.0, 29, 40, 0.725, 12, 31, 43, 21, 9, 1, 16, 37, null], [\"21983\", 1610612744, \"GOS\", \"Golden State Warriors\", \"0028300004\", \"1983-10-28\", \"GOS @ SEA\", \"W\", 240, 110, 42, 89, 0.472, 0, 0, null, 26, 37, 0.703, 21, 26, 47, 26, 11, 2, 19, 34, null]]}]}'"
     },
     "metadata": {},
     "execution_count": 49
    }
   ],
   "source": [
    "# Since https://stats.nba.com does lot allow api calls from Cloud IPs and Skills Network Labs uses a Cloud IP.\n",
    "# The following code is comment out, you can run it on jupyter labs on your own computer.\n",
    "gamefinder.get_json()"
   ]
  },
  {
   "cell_type": "markdown",
   "metadata": {},
   "source": [
    "The game finder object has a method <code>get_data_frames()</code>, that returns a dataframe.  If we view the dataframe, we can see it contains information about all the games the Warriors played.  The <code>PLUS_MINUS</code> column contains information on the score, if the value is negative the Warriors lost by that many points, if the value is positive, the warriors one by that amount of points. The column <code>MATCHUP </code>had the team the Warriors were playing, GSW stands for golden state and TOR means Toronto Raptors; <code>vs</code> signifies it was a home game and the <code>@ </code>symbol means an away game."
   ]
  },
  {
   "cell_type": "code",
   "execution_count": 50,
   "metadata": {},
   "outputs": [
    {
     "output_type": "execute_result",
     "data": {
      "text/plain": "  SEASON_ID     TEAM_ID TEAM_ABBREVIATION              TEAM_NAME     GAME_ID  \\\n0     22019  1610612744               GSW  Golden State Warriors  0021900967   \n1     22019  1610612744               GSW  Golden State Warriors  0021900944   \n2     22019  1610612744               GSW  Golden State Warriors  0021900929   \n3     22019  1610612744               GSW  Golden State Warriors  0021900913   \n4     22019  1610612744               GSW  Golden State Warriors  0021900901   \n\n    GAME_DATE      MATCHUP WL  MIN  PTS  ...  FT_PCT  OREB  DREB   REB  AST  \\\n0  2020-03-10  GSW vs. LAC  L  239  107  ...   0.815   4.0  31.0  35.0   25   \n1  2020-03-07  GSW vs. PHI  W  240  118  ...   0.750   7.0  28.0  35.0   30   \n2  2020-03-05  GSW vs. TOR  L  240  113  ...   0.760  14.0  38.0  52.0   34   \n3  2020-03-03    GSW @ DEN  W  239  116  ...   0.636   5.0  30.0  35.0   31   \n4  2020-03-01  GSW vs. WAS  L  239  110  ...   0.708  18.0  34.0  52.0   25   \n\n   STL  BLK  TOV  PF  PLUS_MINUS  \n0    3    0    9  17       -24.0  \n1    4    2    7  19         4.0  \n2    4    5   15  23        -8.0  \n3    8    3   11  23        16.0  \n4    7    7   21  24       -14.0  \n\n[5 rows x 28 columns]",
      "text/html": "<div>\n<style scoped>\n    .dataframe tbody tr th:only-of-type {\n        vertical-align: middle;\n    }\n\n    .dataframe tbody tr th {\n        vertical-align: top;\n    }\n\n    .dataframe thead th {\n        text-align: right;\n    }\n</style>\n<table border=\"1\" class=\"dataframe\">\n  <thead>\n    <tr style=\"text-align: right;\">\n      <th></th>\n      <th>SEASON_ID</th>\n      <th>TEAM_ID</th>\n      <th>TEAM_ABBREVIATION</th>\n      <th>TEAM_NAME</th>\n      <th>GAME_ID</th>\n      <th>GAME_DATE</th>\n      <th>MATCHUP</th>\n      <th>WL</th>\n      <th>MIN</th>\n      <th>PTS</th>\n      <th>...</th>\n      <th>FT_PCT</th>\n      <th>OREB</th>\n      <th>DREB</th>\n      <th>REB</th>\n      <th>AST</th>\n      <th>STL</th>\n      <th>BLK</th>\n      <th>TOV</th>\n      <th>PF</th>\n      <th>PLUS_MINUS</th>\n    </tr>\n  </thead>\n  <tbody>\n    <tr>\n      <th>0</th>\n      <td>22019</td>\n      <td>1610612744</td>\n      <td>GSW</td>\n      <td>Golden State Warriors</td>\n      <td>0021900967</td>\n      <td>2020-03-10</td>\n      <td>GSW vs. LAC</td>\n      <td>L</td>\n      <td>239</td>\n      <td>107</td>\n      <td>...</td>\n      <td>0.815</td>\n      <td>4.0</td>\n      <td>31.0</td>\n      <td>35.0</td>\n      <td>25</td>\n      <td>3</td>\n      <td>0</td>\n      <td>9</td>\n      <td>17</td>\n      <td>-24.0</td>\n    </tr>\n    <tr>\n      <th>1</th>\n      <td>22019</td>\n      <td>1610612744</td>\n      <td>GSW</td>\n      <td>Golden State Warriors</td>\n      <td>0021900944</td>\n      <td>2020-03-07</td>\n      <td>GSW vs. PHI</td>\n      <td>W</td>\n      <td>240</td>\n      <td>118</td>\n      <td>...</td>\n      <td>0.750</td>\n      <td>7.0</td>\n      <td>28.0</td>\n      <td>35.0</td>\n      <td>30</td>\n      <td>4</td>\n      <td>2</td>\n      <td>7</td>\n      <td>19</td>\n      <td>4.0</td>\n    </tr>\n    <tr>\n      <th>2</th>\n      <td>22019</td>\n      <td>1610612744</td>\n      <td>GSW</td>\n      <td>Golden State Warriors</td>\n      <td>0021900929</td>\n      <td>2020-03-05</td>\n      <td>GSW vs. TOR</td>\n      <td>L</td>\n      <td>240</td>\n      <td>113</td>\n      <td>...</td>\n      <td>0.760</td>\n      <td>14.0</td>\n      <td>38.0</td>\n      <td>52.0</td>\n      <td>34</td>\n      <td>4</td>\n      <td>5</td>\n      <td>15</td>\n      <td>23</td>\n      <td>-8.0</td>\n    </tr>\n    <tr>\n      <th>3</th>\n      <td>22019</td>\n      <td>1610612744</td>\n      <td>GSW</td>\n      <td>Golden State Warriors</td>\n      <td>0021900913</td>\n      <td>2020-03-03</td>\n      <td>GSW @ DEN</td>\n      <td>W</td>\n      <td>239</td>\n      <td>116</td>\n      <td>...</td>\n      <td>0.636</td>\n      <td>5.0</td>\n      <td>30.0</td>\n      <td>35.0</td>\n      <td>31</td>\n      <td>8</td>\n      <td>3</td>\n      <td>11</td>\n      <td>23</td>\n      <td>16.0</td>\n    </tr>\n    <tr>\n      <th>4</th>\n      <td>22019</td>\n      <td>1610612744</td>\n      <td>GSW</td>\n      <td>Golden State Warriors</td>\n      <td>0021900901</td>\n      <td>2020-03-01</td>\n      <td>GSW vs. WAS</td>\n      <td>L</td>\n      <td>239</td>\n      <td>110</td>\n      <td>...</td>\n      <td>0.708</td>\n      <td>18.0</td>\n      <td>34.0</td>\n      <td>52.0</td>\n      <td>25</td>\n      <td>7</td>\n      <td>7</td>\n      <td>21</td>\n      <td>24</td>\n      <td>-14.0</td>\n    </tr>\n  </tbody>\n</table>\n<p>5 rows × 28 columns</p>\n</div>"
     },
     "metadata": {},
     "execution_count": 50
    }
   ],
   "source": [
    "# Since https://stats.nba.com does lot allow api calls from Cloud IPs and Skills Network Labs uses a Cloud IP.\n",
    "# The following code is comment out, you can run it on jupyter labs on your own computer.\n",
    "games = gamefinder.get_data_frames()[0]\n",
    "games.head()"
   ]
  },
  {
   "cell_type": "markdown",
   "metadata": {},
   "source": [
    "you can download the dataframe from the API call for Golden State and run the rest like a video."
   ]
  },
  {
   "cell_type": "code",
   "execution_count": 38,
   "metadata": {},
   "outputs": [
    {
     "output_type": "stream",
     "name": "stdout",
     "text": "--2020-06-20 17:12:29--  https://s3-api.us-geo.objectstorage.softlayer.net/cf-courses-data/CognitiveClass/PY0101EN/Chapter%205/Labs/Golden_State.pkl\nResolving s3-api.us-geo.objectstorage.softlayer.net (s3-api.us-geo.objectstorage.softlayer.net)... 67.228.254.196\nConnecting to s3-api.us-geo.objectstorage.softlayer.net (s3-api.us-geo.objectstorage.softlayer.net)|67.228.254.196|:443...connected.\nHTTP request sent, awaiting response...200 OK\nLength: 811065 (792K) [application/octet-stream]\nSaving to: ‘Golden_State.pkl.1’\n\nGolden_State.pkl.1  100%[===================>] 792.06K  1.99MB/s    in 0.4s    \n\n2020-06-20 17:12:29 (1.99 MB/s) - ‘Golden_State.pkl.1’ saved [811065/811065]\n\n"
    }
   ],
   "source": [
    "! wget https://s3-api.us-geo.objectstorage.softlayer.net/cf-courses-data/CognitiveClass/PY0101EN/Chapter%205/Labs/Golden_State.pkl"
   ]
  },
  {
   "cell_type": "code",
   "execution_count": 39,
   "metadata": {},
   "outputs": [
    {
     "output_type": "execute_result",
     "data": {
      "text/plain": "  SEASON_ID     TEAM_ID TEAM_ABBREVIATION              TEAM_NAME     GAME_ID  \\\n0     22019  1610612744               GSW  Golden State Warriors  1521900066   \n1     22019  1610612744               GSW  Golden State Warriors  1521900058   \n2     22019  1610612744               GSW  Golden State Warriors  1521900039   \n3     22019  1610612744               GSW  Golden State Warriors  1521900020   \n4     22019  1610612744               GSW  Golden State Warriors  1521900007   \n\n    GAME_DATE      MATCHUP WL  MIN  PTS  ...  FT_PCT  OREB  DREB   REB  AST  \\\n0  2019-07-12  GSW vs. LAL  L  200   87  ...   0.800  13.0  29.0  42.0   13   \n1  2019-07-10    GSW @ DEN  W  201   73  ...   0.867   7.0  27.0  34.0   10   \n2  2019-07-08    GSW @ LAL  W  200   88  ...   0.621   8.0  29.0  37.0   21   \n3  2019-07-07  GSW vs. TOR  W  201   80  ...   0.923   6.0  37.0  43.0   18   \n4  2019-07-05  GSW vs. CHA  L  200   85  ...   0.889   8.0  28.0  36.0   19   \n\n    STL  BLK   TOV  PF  PLUS_MINUS  \n0  10.0    3  11.0  21         3.2  \n1  11.0    7  20.0  20        -8.0  \n2  10.0    4  13.0  22         8.0  \n3   8.0    3  20.0  25        10.0  \n4   9.0    3  13.0  15        -8.0  \n\n[5 rows x 28 columns]",
      "text/html": "<div>\n<style scoped>\n    .dataframe tbody tr th:only-of-type {\n        vertical-align: middle;\n    }\n\n    .dataframe tbody tr th {\n        vertical-align: top;\n    }\n\n    .dataframe thead th {\n        text-align: right;\n    }\n</style>\n<table border=\"1\" class=\"dataframe\">\n  <thead>\n    <tr style=\"text-align: right;\">\n      <th></th>\n      <th>SEASON_ID</th>\n      <th>TEAM_ID</th>\n      <th>TEAM_ABBREVIATION</th>\n      <th>TEAM_NAME</th>\n      <th>GAME_ID</th>\n      <th>GAME_DATE</th>\n      <th>MATCHUP</th>\n      <th>WL</th>\n      <th>MIN</th>\n      <th>PTS</th>\n      <th>...</th>\n      <th>FT_PCT</th>\n      <th>OREB</th>\n      <th>DREB</th>\n      <th>REB</th>\n      <th>AST</th>\n      <th>STL</th>\n      <th>BLK</th>\n      <th>TOV</th>\n      <th>PF</th>\n      <th>PLUS_MINUS</th>\n    </tr>\n  </thead>\n  <tbody>\n    <tr>\n      <th>0</th>\n      <td>22019</td>\n      <td>1610612744</td>\n      <td>GSW</td>\n      <td>Golden State Warriors</td>\n      <td>1521900066</td>\n      <td>2019-07-12</td>\n      <td>GSW vs. LAL</td>\n      <td>L</td>\n      <td>200</td>\n      <td>87</td>\n      <td>...</td>\n      <td>0.800</td>\n      <td>13.0</td>\n      <td>29.0</td>\n      <td>42.0</td>\n      <td>13</td>\n      <td>10.0</td>\n      <td>3</td>\n      <td>11.0</td>\n      <td>21</td>\n      <td>3.2</td>\n    </tr>\n    <tr>\n      <th>1</th>\n      <td>22019</td>\n      <td>1610612744</td>\n      <td>GSW</td>\n      <td>Golden State Warriors</td>\n      <td>1521900058</td>\n      <td>2019-07-10</td>\n      <td>GSW @ DEN</td>\n      <td>W</td>\n      <td>201</td>\n      <td>73</td>\n      <td>...</td>\n      <td>0.867</td>\n      <td>7.0</td>\n      <td>27.0</td>\n      <td>34.0</td>\n      <td>10</td>\n      <td>11.0</td>\n      <td>7</td>\n      <td>20.0</td>\n      <td>20</td>\n      <td>-8.0</td>\n    </tr>\n    <tr>\n      <th>2</th>\n      <td>22019</td>\n      <td>1610612744</td>\n      <td>GSW</td>\n      <td>Golden State Warriors</td>\n      <td>1521900039</td>\n      <td>2019-07-08</td>\n      <td>GSW @ LAL</td>\n      <td>W</td>\n      <td>200</td>\n      <td>88</td>\n      <td>...</td>\n      <td>0.621</td>\n      <td>8.0</td>\n      <td>29.0</td>\n      <td>37.0</td>\n      <td>21</td>\n      <td>10.0</td>\n      <td>4</td>\n      <td>13.0</td>\n      <td>22</td>\n      <td>8.0</td>\n    </tr>\n    <tr>\n      <th>3</th>\n      <td>22019</td>\n      <td>1610612744</td>\n      <td>GSW</td>\n      <td>Golden State Warriors</td>\n      <td>1521900020</td>\n      <td>2019-07-07</td>\n      <td>GSW vs. TOR</td>\n      <td>W</td>\n      <td>201</td>\n      <td>80</td>\n      <td>...</td>\n      <td>0.923</td>\n      <td>6.0</td>\n      <td>37.0</td>\n      <td>43.0</td>\n      <td>18</td>\n      <td>8.0</td>\n      <td>3</td>\n      <td>20.0</td>\n      <td>25</td>\n      <td>10.0</td>\n    </tr>\n    <tr>\n      <th>4</th>\n      <td>22019</td>\n      <td>1610612744</td>\n      <td>GSW</td>\n      <td>Golden State Warriors</td>\n      <td>1521900007</td>\n      <td>2019-07-05</td>\n      <td>GSW vs. CHA</td>\n      <td>L</td>\n      <td>200</td>\n      <td>85</td>\n      <td>...</td>\n      <td>0.889</td>\n      <td>8.0</td>\n      <td>28.0</td>\n      <td>36.0</td>\n      <td>19</td>\n      <td>9.0</td>\n      <td>3</td>\n      <td>13.0</td>\n      <td>15</td>\n      <td>-8.0</td>\n    </tr>\n  </tbody>\n</table>\n<p>5 rows × 28 columns</p>\n</div>"
     },
     "metadata": {},
     "execution_count": 39
    }
   ],
   "source": [
    "file_name = \"Golden_State.pkl\"\n",
    "games = pd.read_pickle(file_name)\n",
    "games.head()"
   ]
  },
  {
   "cell_type": "markdown",
   "metadata": {},
   "source": [
    "We can create two dataframes, one  for the games that the Warriors faced the raptors at home and the second for away games."
   ]
  },
  {
   "cell_type": "code",
   "execution_count": 40,
   "metadata": {
    "collapsed": false,
    "jupyter": {
     "outputs_hidden": false
    }
   },
   "outputs": [],
   "source": [
    "games_home=games [games ['MATCHUP']=='GSW vs. TOR']\n",
    "games_away=games [games ['MATCHUP']=='GSW @ TOR']"
   ]
  },
  {
   "cell_type": "markdown",
   "metadata": {},
   "source": [
    "We can calculate the mean for the column  <code>PLUS_MINUS</code> for the dataframes  <code>games_home</code> and <code> games_away</code>:"
   ]
  },
  {
   "cell_type": "code",
   "execution_count": 41,
   "metadata": {
    "collapsed": false,
    "jupyter": {
     "outputs_hidden": false
    }
   },
   "outputs": [
    {
     "output_type": "execute_result",
     "data": {
      "text/plain": "3.730769230769231"
     },
     "metadata": {},
     "execution_count": 41
    }
   ],
   "source": [
    "games_home.mean()['PLUS_MINUS']"
   ]
  },
  {
   "cell_type": "code",
   "execution_count": 42,
   "metadata": {
    "collapsed": false,
    "jupyter": {
     "outputs_hidden": false
    }
   },
   "outputs": [
    {
     "output_type": "execute_result",
     "data": {
      "text/plain": "-0.6071428571428571"
     },
     "metadata": {},
     "execution_count": 42
    }
   ],
   "source": [
    "games_away.mean()['PLUS_MINUS']"
   ]
  },
  {
   "cell_type": "markdown",
   "metadata": {},
   "source": [
    "We can plot out the <code>PLUS MINUS</code> column for  for the dataframes  <code>games_home</code> and <code> games_away</code>.\n",
    "We see the warriors played better at home."
   ]
  },
  {
   "cell_type": "code",
   "execution_count": 43,
   "metadata": {
    "collapsed": false,
    "jupyter": {
     "outputs_hidden": false
    }
   },
   "outputs": [
    {
     "output_type": "display_data",
     "data": {
      "text/plain": "<Figure size 432x288 with 1 Axes>",
      "image/svg+xml": "<?xml version=\"1.0\" encoding=\"utf-8\" standalone=\"no\"?>\n<!DOCTYPE svg PUBLIC \"-//W3C//DTD SVG 1.1//EN\"\n  \"http://www.w3.org/Graphics/SVG/1.1/DTD/svg11.dtd\">\n<!-- Created with matplotlib (https://matplotlib.org/) -->\n<svg height=\"262.802486pt\" version=\"1.1\" viewBox=\"0 0 377.304688 262.802486\" width=\"377.304688pt\" xmlns=\"http://www.w3.org/2000/svg\" xmlns:xlink=\"http://www.w3.org/1999/xlink\">\n <defs>\n  <style type=\"text/css\">\n*{stroke-linecap:butt;stroke-linejoin:round;}\n  </style>\n </defs>\n <g id=\"figure_1\">\n  <g id=\"patch_1\">\n   <path d=\"M 0 262.802486 \nL 377.304688 262.802486 \nL 377.304688 0 \nL 0 0 \nz\n\" style=\"fill:none;\"/>\n  </g>\n  <g id=\"axes_1\">\n   <g id=\"patch_2\">\n    <path d=\"M 35.304688 225.144673 \nL 370.104688 225.144673 \nL 370.104688 7.704673 \nL 35.304688 7.704673 \nz\n\" style=\"fill:#ffffff;\"/>\n   </g>\n   <g id=\"matplotlib.axis_1\">\n    <g id=\"xtick_1\">\n     <g id=\"line2d_1\">\n      <defs>\n       <path d=\"M 0 0 \nL 0 3.5 \n\" id=\"m0f1a350811\" style=\"stroke:#000000;stroke-width:0.8;\"/>\n      </defs>\n      <g>\n       <use style=\"stroke:#000000;stroke-width:0.8;\" x=\"50.522869\" xlink:href=\"#m0f1a350811\" y=\"225.144673\"/>\n      </g>\n     </g>\n     <g id=\"text_1\">\n      <!-- 2019-07-07 -->\n      <defs>\n       <path d=\"M 19.1875 8.296875 \nL 53.609375 8.296875 \nL 53.609375 0 \nL 7.328125 0 \nL 7.328125 8.296875 \nQ 12.9375 14.109375 22.625 23.890625 \nQ 32.328125 33.6875 34.8125 36.53125 \nQ 39.546875 41.84375 41.421875 45.53125 \nQ 43.3125 49.21875 43.3125 52.78125 \nQ 43.3125 58.59375 39.234375 62.25 \nQ 35.15625 65.921875 28.609375 65.921875 \nQ 23.96875 65.921875 18.8125 64.3125 \nQ 13.671875 62.703125 7.8125 59.421875 \nL 7.8125 69.390625 \nQ 13.765625 71.78125 18.9375 73 \nQ 24.125 74.21875 28.421875 74.21875 \nQ 39.75 74.21875 46.484375 68.546875 \nQ 53.21875 62.890625 53.21875 53.421875 \nQ 53.21875 48.921875 51.53125 44.890625 \nQ 49.859375 40.875 45.40625 35.40625 \nQ 44.1875 33.984375 37.640625 27.21875 \nQ 31.109375 20.453125 19.1875 8.296875 \nz\n\" id=\"DejaVuSans-50\"/>\n       <path d=\"M 31.78125 66.40625 \nQ 24.171875 66.40625 20.328125 58.90625 \nQ 16.5 51.421875 16.5 36.375 \nQ 16.5 21.390625 20.328125 13.890625 \nQ 24.171875 6.390625 31.78125 6.390625 \nQ 39.453125 6.390625 43.28125 13.890625 \nQ 47.125 21.390625 47.125 36.375 \nQ 47.125 51.421875 43.28125 58.90625 \nQ 39.453125 66.40625 31.78125 66.40625 \nz\nM 31.78125 74.21875 \nQ 44.046875 74.21875 50.515625 64.515625 \nQ 56.984375 54.828125 56.984375 36.375 \nQ 56.984375 17.96875 50.515625 8.265625 \nQ 44.046875 -1.421875 31.78125 -1.421875 \nQ 19.53125 -1.421875 13.0625 8.265625 \nQ 6.59375 17.96875 6.59375 36.375 \nQ 6.59375 54.828125 13.0625 64.515625 \nQ 19.53125 74.21875 31.78125 74.21875 \nz\n\" id=\"DejaVuSans-48\"/>\n       <path d=\"M 12.40625 8.296875 \nL 28.515625 8.296875 \nL 28.515625 63.921875 \nL 10.984375 60.40625 \nL 10.984375 69.390625 \nL 28.421875 72.90625 \nL 38.28125 72.90625 \nL 38.28125 8.296875 \nL 54.390625 8.296875 \nL 54.390625 0 \nL 12.40625 0 \nz\n\" id=\"DejaVuSans-49\"/>\n       <path d=\"M 10.984375 1.515625 \nL 10.984375 10.5 \nQ 14.703125 8.734375 18.5 7.8125 \nQ 22.3125 6.890625 25.984375 6.890625 \nQ 35.75 6.890625 40.890625 13.453125 \nQ 46.046875 20.015625 46.78125 33.40625 \nQ 43.953125 29.203125 39.59375 26.953125 \nQ 35.25 24.703125 29.984375 24.703125 \nQ 19.046875 24.703125 12.671875 31.3125 \nQ 6.296875 37.9375 6.296875 49.421875 \nQ 6.296875 60.640625 12.9375 67.421875 \nQ 19.578125 74.21875 30.609375 74.21875 \nQ 43.265625 74.21875 49.921875 64.515625 \nQ 56.59375 54.828125 56.59375 36.375 \nQ 56.59375 19.140625 48.40625 8.859375 \nQ 40.234375 -1.421875 26.421875 -1.421875 \nQ 22.703125 -1.421875 18.890625 -0.6875 \nQ 15.09375 0.046875 10.984375 1.515625 \nz\nM 30.609375 32.421875 \nQ 37.25 32.421875 41.125 36.953125 \nQ 45.015625 41.5 45.015625 49.421875 \nQ 45.015625 57.28125 41.125 61.84375 \nQ 37.25 66.40625 30.609375 66.40625 \nQ 23.96875 66.40625 20.09375 61.84375 \nQ 16.21875 57.28125 16.21875 49.421875 \nQ 16.21875 41.5 20.09375 36.953125 \nQ 23.96875 32.421875 30.609375 32.421875 \nz\n\" id=\"DejaVuSans-57\"/>\n       <path d=\"M 4.890625 31.390625 \nL 31.203125 31.390625 \nL 31.203125 23.390625 \nL 4.890625 23.390625 \nz\n\" id=\"DejaVuSans-45\"/>\n       <path d=\"M 8.203125 72.90625 \nL 55.078125 72.90625 \nL 55.078125 68.703125 \nL 28.609375 0 \nL 18.3125 0 \nL 43.21875 64.59375 \nL 8.203125 64.59375 \nz\n\" id=\"DejaVuSans-55\"/>\n      </defs>\n      <g transform=\"translate(21.465057 239.743111)scale(0.1 -0.1)\">\n       <use xlink:href=\"#DejaVuSans-50\"/>\n       <use x=\"63.623047\" xlink:href=\"#DejaVuSans-48\"/>\n       <use x=\"127.246094\" xlink:href=\"#DejaVuSans-49\"/>\n       <use x=\"190.869141\" xlink:href=\"#DejaVuSans-57\"/>\n       <use x=\"254.492188\" xlink:href=\"#DejaVuSans-45\"/>\n       <use x=\"290.576172\" xlink:href=\"#DejaVuSans-48\"/>\n       <use x=\"354.199219\" xlink:href=\"#DejaVuSans-55\"/>\n       <use x=\"417.822266\" xlink:href=\"#DejaVuSans-45\"/>\n       <use x=\"453.90625\" xlink:href=\"#DejaVuSans-48\"/>\n       <use x=\"517.529297\" xlink:href=\"#DejaVuSans-55\"/>\n      </g>\n     </g>\n    </g>\n    <g id=\"xtick_2\">\n     <g id=\"line2d_2\">\n      <g>\n       <use style=\"stroke:#000000;stroke-width:0.8;\" x=\"106.886506\" xlink:href=\"#m0f1a350811\" y=\"225.144673\"/>\n      </g>\n     </g>\n     <g id=\"text_2\">\n      <!-- 2017-10-25 -->\n      <defs>\n       <path d=\"M 10.796875 72.90625 \nL 49.515625 72.90625 \nL 49.515625 64.59375 \nL 19.828125 64.59375 \nL 19.828125 46.734375 \nQ 21.96875 47.46875 24.109375 47.828125 \nQ 26.265625 48.1875 28.421875 48.1875 \nQ 40.625 48.1875 47.75 41.5 \nQ 54.890625 34.8125 54.890625 23.390625 \nQ 54.890625 11.625 47.5625 5.09375 \nQ 40.234375 -1.421875 26.90625 -1.421875 \nQ 22.3125 -1.421875 17.546875 -0.640625 \nQ 12.796875 0.140625 7.71875 1.703125 \nL 7.71875 11.625 \nQ 12.109375 9.234375 16.796875 8.0625 \nQ 21.484375 6.890625 26.703125 6.890625 \nQ 35.15625 6.890625 40.078125 11.328125 \nQ 45.015625 15.765625 45.015625 23.390625 \nQ 45.015625 31 40.078125 35.4375 \nQ 35.15625 39.890625 26.703125 39.890625 \nQ 22.75 39.890625 18.8125 39.015625 \nQ 14.890625 38.140625 10.796875 36.28125 \nz\n\" id=\"DejaVuSans-53\"/>\n      </defs>\n      <g transform=\"translate(77.828693 239.743111)scale(0.1 -0.1)\">\n       <use xlink:href=\"#DejaVuSans-50\"/>\n       <use x=\"63.623047\" xlink:href=\"#DejaVuSans-48\"/>\n       <use x=\"127.246094\" xlink:href=\"#DejaVuSans-49\"/>\n       <use x=\"190.869141\" xlink:href=\"#DejaVuSans-55\"/>\n       <use x=\"254.492188\" xlink:href=\"#DejaVuSans-45\"/>\n       <use x=\"290.576172\" xlink:href=\"#DejaVuSans-49\"/>\n       <use x=\"354.199219\" xlink:href=\"#DejaVuSans-48\"/>\n       <use x=\"417.822266\" xlink:href=\"#DejaVuSans-45\"/>\n       <use x=\"453.90625\" xlink:href=\"#DejaVuSans-50\"/>\n       <use x=\"517.529297\" xlink:href=\"#DejaVuSans-53\"/>\n      </g>\n     </g>\n    </g>\n    <g id=\"xtick_3\">\n     <g id=\"line2d_3\">\n      <g>\n       <use style=\"stroke:#000000;stroke-width:0.8;\" x=\"163.250142\" xlink:href=\"#m0f1a350811\" y=\"225.144673\"/>\n      </g>\n     </g>\n     <g id=\"text_3\">\n      <!-- 2013-12-03 -->\n      <defs>\n       <path d=\"M 40.578125 39.3125 \nQ 47.65625 37.796875 51.625 33 \nQ 55.609375 28.21875 55.609375 21.1875 \nQ 55.609375 10.40625 48.1875 4.484375 \nQ 40.765625 -1.421875 27.09375 -1.421875 \nQ 22.515625 -1.421875 17.65625 -0.515625 \nQ 12.796875 0.390625 7.625 2.203125 \nL 7.625 11.71875 \nQ 11.71875 9.328125 16.59375 8.109375 \nQ 21.484375 6.890625 26.8125 6.890625 \nQ 36.078125 6.890625 40.9375 10.546875 \nQ 45.796875 14.203125 45.796875 21.1875 \nQ 45.796875 27.640625 41.28125 31.265625 \nQ 36.765625 34.90625 28.71875 34.90625 \nL 20.21875 34.90625 \nL 20.21875 43.015625 \nL 29.109375 43.015625 \nQ 36.375 43.015625 40.234375 45.921875 \nQ 44.09375 48.828125 44.09375 54.296875 \nQ 44.09375 59.90625 40.109375 62.90625 \nQ 36.140625 65.921875 28.71875 65.921875 \nQ 24.65625 65.921875 20.015625 65.03125 \nQ 15.375 64.15625 9.8125 62.3125 \nL 9.8125 71.09375 \nQ 15.4375 72.65625 20.34375 73.4375 \nQ 25.25 74.21875 29.59375 74.21875 \nQ 40.828125 74.21875 47.359375 69.109375 \nQ 53.90625 64.015625 53.90625 55.328125 \nQ 53.90625 49.265625 50.4375 45.09375 \nQ 46.96875 40.921875 40.578125 39.3125 \nz\n\" id=\"DejaVuSans-51\"/>\n      </defs>\n      <g transform=\"translate(134.19233 239.743111)scale(0.1 -0.1)\">\n       <use xlink:href=\"#DejaVuSans-50\"/>\n       <use x=\"63.623047\" xlink:href=\"#DejaVuSans-48\"/>\n       <use x=\"127.246094\" xlink:href=\"#DejaVuSans-49\"/>\n       <use x=\"190.869141\" xlink:href=\"#DejaVuSans-51\"/>\n       <use x=\"254.492188\" xlink:href=\"#DejaVuSans-45\"/>\n       <use x=\"290.576172\" xlink:href=\"#DejaVuSans-49\"/>\n       <use x=\"354.199219\" xlink:href=\"#DejaVuSans-50\"/>\n       <use x=\"417.822266\" xlink:href=\"#DejaVuSans-45\"/>\n       <use x=\"453.90625\" xlink:href=\"#DejaVuSans-48\"/>\n       <use x=\"517.529297\" xlink:href=\"#DejaVuSans-51\"/>\n      </g>\n     </g>\n    </g>\n    <g id=\"xtick_4\">\n     <g id=\"line2d_4\">\n      <g>\n       <use style=\"stroke:#000000;stroke-width:0.8;\" x=\"219.613778\" xlink:href=\"#m0f1a350811\" y=\"225.144673\"/>\n      </g>\n     </g>\n     <g id=\"text_4\">\n      <!-- 2008-03-12 -->\n      <defs>\n       <path d=\"M 31.78125 34.625 \nQ 24.75 34.625 20.71875 30.859375 \nQ 16.703125 27.09375 16.703125 20.515625 \nQ 16.703125 13.921875 20.71875 10.15625 \nQ 24.75 6.390625 31.78125 6.390625 \nQ 38.8125 6.390625 42.859375 10.171875 \nQ 46.921875 13.96875 46.921875 20.515625 \nQ 46.921875 27.09375 42.890625 30.859375 \nQ 38.875 34.625 31.78125 34.625 \nz\nM 21.921875 38.8125 \nQ 15.578125 40.375 12.03125 44.71875 \nQ 8.5 49.078125 8.5 55.328125 \nQ 8.5 64.0625 14.71875 69.140625 \nQ 20.953125 74.21875 31.78125 74.21875 \nQ 42.671875 74.21875 48.875 69.140625 \nQ 55.078125 64.0625 55.078125 55.328125 \nQ 55.078125 49.078125 51.53125 44.71875 \nQ 48 40.375 41.703125 38.8125 \nQ 48.828125 37.15625 52.796875 32.3125 \nQ 56.78125 27.484375 56.78125 20.515625 \nQ 56.78125 9.90625 50.3125 4.234375 \nQ 43.84375 -1.421875 31.78125 -1.421875 \nQ 19.734375 -1.421875 13.25 4.234375 \nQ 6.78125 9.90625 6.78125 20.515625 \nQ 6.78125 27.484375 10.78125 32.3125 \nQ 14.796875 37.15625 21.921875 38.8125 \nz\nM 18.3125 54.390625 \nQ 18.3125 48.734375 21.84375 45.5625 \nQ 25.390625 42.390625 31.78125 42.390625 \nQ 38.140625 42.390625 41.71875 45.5625 \nQ 45.3125 48.734375 45.3125 54.390625 \nQ 45.3125 60.0625 41.71875 63.234375 \nQ 38.140625 66.40625 31.78125 66.40625 \nQ 25.390625 66.40625 21.84375 63.234375 \nQ 18.3125 60.0625 18.3125 54.390625 \nz\n\" id=\"DejaVuSans-56\"/>\n      </defs>\n      <g transform=\"translate(190.555966 239.743111)scale(0.1 -0.1)\">\n       <use xlink:href=\"#DejaVuSans-50\"/>\n       <use x=\"63.623047\" xlink:href=\"#DejaVuSans-48\"/>\n       <use x=\"127.246094\" xlink:href=\"#DejaVuSans-48\"/>\n       <use x=\"190.869141\" xlink:href=\"#DejaVuSans-56\"/>\n       <use x=\"254.492188\" xlink:href=\"#DejaVuSans-45\"/>\n       <use x=\"290.576172\" xlink:href=\"#DejaVuSans-48\"/>\n       <use x=\"354.199219\" xlink:href=\"#DejaVuSans-51\"/>\n       <use x=\"417.822266\" xlink:href=\"#DejaVuSans-45\"/>\n       <use x=\"453.90625\" xlink:href=\"#DejaVuSans-49\"/>\n       <use x=\"517.529297\" xlink:href=\"#DejaVuSans-50\"/>\n      </g>\n     </g>\n    </g>\n    <g id=\"xtick_5\">\n     <g id=\"line2d_5\">\n      <g>\n       <use style=\"stroke:#000000;stroke-width:0.8;\" x=\"275.977415\" xlink:href=\"#m0f1a350811\" y=\"225.144673\"/>\n      </g>\n     </g>\n     <g id=\"text_5\">\n      <!-- 2002-12-27 -->\n      <g transform=\"translate(246.919602 239.743111)scale(0.1 -0.1)\">\n       <use xlink:href=\"#DejaVuSans-50\"/>\n       <use x=\"63.623047\" xlink:href=\"#DejaVuSans-48\"/>\n       <use x=\"127.246094\" xlink:href=\"#DejaVuSans-48\"/>\n       <use x=\"190.869141\" xlink:href=\"#DejaVuSans-50\"/>\n       <use x=\"254.492188\" xlink:href=\"#DejaVuSans-45\"/>\n       <use x=\"290.576172\" xlink:href=\"#DejaVuSans-49\"/>\n       <use x=\"354.199219\" xlink:href=\"#DejaVuSans-50\"/>\n       <use x=\"417.822266\" xlink:href=\"#DejaVuSans-45\"/>\n       <use x=\"453.90625\" xlink:href=\"#DejaVuSans-50\"/>\n       <use x=\"517.529297\" xlink:href=\"#DejaVuSans-55\"/>\n      </g>\n     </g>\n    </g>\n    <g id=\"xtick_6\">\n     <g id=\"line2d_6\">\n      <g>\n       <use style=\"stroke:#000000;stroke-width:0.8;\" x=\"332.341051\" xlink:href=\"#m0f1a350811\" y=\"225.144673\"/>\n      </g>\n     </g>\n     <g id=\"text_6\">\n      <!-- 1997-03-15 -->\n      <g transform=\"translate(303.283239 239.743111)scale(0.1 -0.1)\">\n       <use xlink:href=\"#DejaVuSans-49\"/>\n       <use x=\"63.623047\" xlink:href=\"#DejaVuSans-57\"/>\n       <use x=\"127.246094\" xlink:href=\"#DejaVuSans-57\"/>\n       <use x=\"190.869141\" xlink:href=\"#DejaVuSans-55\"/>\n       <use x=\"254.492188\" xlink:href=\"#DejaVuSans-45\"/>\n       <use x=\"290.576172\" xlink:href=\"#DejaVuSans-48\"/>\n       <use x=\"354.199219\" xlink:href=\"#DejaVuSans-51\"/>\n       <use x=\"417.822266\" xlink:href=\"#DejaVuSans-45\"/>\n       <use x=\"453.90625\" xlink:href=\"#DejaVuSans-49\"/>\n       <use x=\"517.529297\" xlink:href=\"#DejaVuSans-53\"/>\n      </g>\n     </g>\n    </g>\n    <g id=\"text_7\">\n     <!-- GAME_DATE -->\n     <defs>\n      <path d=\"M 59.515625 10.40625 \nL 59.515625 29.984375 \nL 43.40625 29.984375 \nL 43.40625 38.09375 \nL 69.28125 38.09375 \nL 69.28125 6.78125 \nQ 63.578125 2.734375 56.6875 0.65625 \nQ 49.8125 -1.421875 42 -1.421875 \nQ 24.90625 -1.421875 15.25 8.5625 \nQ 5.609375 18.5625 5.609375 36.375 \nQ 5.609375 54.25 15.25 64.234375 \nQ 24.90625 74.21875 42 74.21875 \nQ 49.125 74.21875 55.546875 72.453125 \nQ 61.96875 70.703125 67.390625 67.28125 \nL 67.390625 56.78125 \nQ 61.921875 61.421875 55.765625 63.765625 \nQ 49.609375 66.109375 42.828125 66.109375 \nQ 29.4375 66.109375 22.71875 58.640625 \nQ 16.015625 51.171875 16.015625 36.375 \nQ 16.015625 21.625 22.71875 14.15625 \nQ 29.4375 6.6875 42.828125 6.6875 \nQ 48.046875 6.6875 52.140625 7.59375 \nQ 56.25 8.5 59.515625 10.40625 \nz\n\" id=\"DejaVuSans-71\"/>\n      <path d=\"M 34.1875 63.1875 \nL 20.796875 26.90625 \nL 47.609375 26.90625 \nz\nM 28.609375 72.90625 \nL 39.796875 72.90625 \nL 67.578125 0 \nL 57.328125 0 \nL 50.6875 18.703125 \nL 17.828125 18.703125 \nL 11.1875 0 \nL 0.78125 0 \nz\n\" id=\"DejaVuSans-65\"/>\n      <path d=\"M 9.8125 72.90625 \nL 24.515625 72.90625 \nL 43.109375 23.296875 \nL 61.8125 72.90625 \nL 76.515625 72.90625 \nL 76.515625 0 \nL 66.890625 0 \nL 66.890625 64.015625 \nL 48.09375 14.015625 \nL 38.1875 14.015625 \nL 19.390625 64.015625 \nL 19.390625 0 \nL 9.8125 0 \nz\n\" id=\"DejaVuSans-77\"/>\n      <path d=\"M 9.8125 72.90625 \nL 55.90625 72.90625 \nL 55.90625 64.59375 \nL 19.671875 64.59375 \nL 19.671875 43.015625 \nL 54.390625 43.015625 \nL 54.390625 34.71875 \nL 19.671875 34.71875 \nL 19.671875 8.296875 \nL 56.78125 8.296875 \nL 56.78125 0 \nL 9.8125 0 \nz\n\" id=\"DejaVuSans-69\"/>\n      <path d=\"M 50.984375 -16.609375 \nL 50.984375 -23.578125 \nL -0.984375 -23.578125 \nL -0.984375 -16.609375 \nz\n\" id=\"DejaVuSans-95\"/>\n      <path d=\"M 19.671875 64.796875 \nL 19.671875 8.109375 \nL 31.59375 8.109375 \nQ 46.6875 8.109375 53.6875 14.9375 \nQ 60.6875 21.78125 60.6875 36.53125 \nQ 60.6875 51.171875 53.6875 57.984375 \nQ 46.6875 64.796875 31.59375 64.796875 \nz\nM 9.8125 72.90625 \nL 30.078125 72.90625 \nQ 51.265625 72.90625 61.171875 64.09375 \nQ 71.09375 55.28125 71.09375 36.53125 \nQ 71.09375 17.671875 61.125 8.828125 \nQ 51.171875 0 30.078125 0 \nL 9.8125 0 \nz\n\" id=\"DejaVuSans-68\"/>\n      <path d=\"M -0.296875 72.90625 \nL 61.375 72.90625 \nL 61.375 64.59375 \nL 35.5 64.59375 \nL 35.5 0 \nL 25.59375 0 \nL 25.59375 64.59375 \nL -0.296875 64.59375 \nz\n\" id=\"DejaVuSans-84\"/>\n     </defs>\n     <g transform=\"translate(172.428125 253.244673)scale(0.1 -0.1)\">\n      <use xlink:href=\"#DejaVuSans-71\"/>\n      <use x=\"77.490234\" xlink:href=\"#DejaVuSans-65\"/>\n      <use x=\"145.898438\" xlink:href=\"#DejaVuSans-77\"/>\n      <use x=\"232.177734\" xlink:href=\"#DejaVuSans-69\"/>\n      <use x=\"295.361328\" xlink:href=\"#DejaVuSans-95\"/>\n      <use x=\"345.361328\" xlink:href=\"#DejaVuSans-68\"/>\n      <use x=\"420.613281\" xlink:href=\"#DejaVuSans-65\"/>\n      <use x=\"481.271484\" xlink:href=\"#DejaVuSans-84\"/>\n      <use x=\"542.355469\" xlink:href=\"#DejaVuSans-69\"/>\n     </g>\n    </g>\n   </g>\n   <g id=\"matplotlib.axis_2\">\n    <g id=\"ytick_1\">\n     <g id=\"line2d_7\">\n      <defs>\n       <path d=\"M 0 0 \nL -3.5 0 \n\" id=\"m06515b3b74\" style=\"stroke:#000000;stroke-width:0.8;\"/>\n      </defs>\n      <g>\n       <use style=\"stroke:#000000;stroke-width:0.8;\" x=\"35.304688\" xlink:href=\"#m06515b3b74\" y=\"208.671946\"/>\n      </g>\n     </g>\n     <g id=\"text_8\">\n      <!-- −20 -->\n      <defs>\n       <path d=\"M 10.59375 35.5 \nL 73.1875 35.5 \nL 73.1875 27.203125 \nL 10.59375 27.203125 \nz\n\" id=\"DejaVuSans-8722\"/>\n      </defs>\n      <g transform=\"translate(7.2 212.471165)scale(0.1 -0.1)\">\n       <use xlink:href=\"#DejaVuSans-8722\"/>\n       <use x=\"83.789062\" xlink:href=\"#DejaVuSans-50\"/>\n       <use x=\"147.412109\" xlink:href=\"#DejaVuSans-48\"/>\n      </g>\n     </g>\n    </g>\n    <g id=\"ytick_2\">\n     <g id=\"line2d_8\">\n      <g>\n       <use style=\"stroke:#000000;stroke-width:0.8;\" x=\"35.304688\" xlink:href=\"#m06515b3b74\" y=\"175.726491\"/>\n      </g>\n     </g>\n     <g id=\"text_9\">\n      <!-- −10 -->\n      <g transform=\"translate(7.2 179.52571)scale(0.1 -0.1)\">\n       <use xlink:href=\"#DejaVuSans-8722\"/>\n       <use x=\"83.789062\" xlink:href=\"#DejaVuSans-49\"/>\n       <use x=\"147.412109\" xlink:href=\"#DejaVuSans-48\"/>\n      </g>\n     </g>\n    </g>\n    <g id=\"ytick_3\">\n     <g id=\"line2d_9\">\n      <g>\n       <use style=\"stroke:#000000;stroke-width:0.8;\" x=\"35.304688\" xlink:href=\"#m06515b3b74\" y=\"142.781037\"/>\n      </g>\n     </g>\n     <g id=\"text_10\">\n      <!-- 0 -->\n      <g transform=\"translate(21.942188 146.580256)scale(0.1 -0.1)\">\n       <use xlink:href=\"#DejaVuSans-48\"/>\n      </g>\n     </g>\n    </g>\n    <g id=\"ytick_4\">\n     <g id=\"line2d_10\">\n      <g>\n       <use style=\"stroke:#000000;stroke-width:0.8;\" x=\"35.304688\" xlink:href=\"#m06515b3b74\" y=\"109.835582\"/>\n      </g>\n     </g>\n     <g id=\"text_11\">\n      <!-- 10 -->\n      <g transform=\"translate(15.579688 113.634801)scale(0.1 -0.1)\">\n       <use xlink:href=\"#DejaVuSans-49\"/>\n       <use x=\"63.623047\" xlink:href=\"#DejaVuSans-48\"/>\n      </g>\n     </g>\n    </g>\n    <g id=\"ytick_5\">\n     <g id=\"line2d_11\">\n      <g>\n       <use style=\"stroke:#000000;stroke-width:0.8;\" x=\"35.304688\" xlink:href=\"#m06515b3b74\" y=\"76.890128\"/>\n      </g>\n     </g>\n     <g id=\"text_12\">\n      <!-- 20 -->\n      <g transform=\"translate(15.579688 80.689347)scale(0.1 -0.1)\">\n       <use xlink:href=\"#DejaVuSans-50\"/>\n       <use x=\"63.623047\" xlink:href=\"#DejaVuSans-48\"/>\n      </g>\n     </g>\n    </g>\n    <g id=\"ytick_6\">\n     <g id=\"line2d_12\">\n      <g>\n       <use style=\"stroke:#000000;stroke-width:0.8;\" x=\"35.304688\" xlink:href=\"#m06515b3b74\" y=\"43.944673\"/>\n      </g>\n     </g>\n     <g id=\"text_13\">\n      <!-- 30 -->\n      <g transform=\"translate(15.579688 47.743892)scale(0.1 -0.1)\">\n       <use xlink:href=\"#DejaVuSans-51\"/>\n       <use x=\"63.623047\" xlink:href=\"#DejaVuSans-48\"/>\n      </g>\n     </g>\n    </g>\n    <g id=\"ytick_7\">\n     <g id=\"line2d_13\">\n      <g>\n       <use style=\"stroke:#000000;stroke-width:0.8;\" x=\"35.304688\" xlink:href=\"#m06515b3b74\" y=\"10.999219\"/>\n      </g>\n     </g>\n     <g id=\"text_14\">\n      <!-- 40 -->\n      <defs>\n       <path d=\"M 37.796875 64.3125 \nL 12.890625 25.390625 \nL 37.796875 25.390625 \nz\nM 35.203125 72.90625 \nL 47.609375 72.90625 \nL 47.609375 25.390625 \nL 58.015625 25.390625 \nL 58.015625 17.1875 \nL 47.609375 17.1875 \nL 47.609375 0 \nL 37.796875 0 \nL 37.796875 17.1875 \nL 4.890625 17.1875 \nL 4.890625 26.703125 \nz\n\" id=\"DejaVuSans-52\"/>\n      </defs>\n      <g transform=\"translate(15.579688 14.798437)scale(0.1 -0.1)\">\n       <use xlink:href=\"#DejaVuSans-52\"/>\n       <use x=\"63.623047\" xlink:href=\"#DejaVuSans-48\"/>\n      </g>\n     </g>\n    </g>\n   </g>\n   <g id=\"line2d_14\">\n    <path clip-path=\"url(#p8e5a006721)\" d=\"M 50.522869 139.486491 \nL 61.795597 126.30831 \nL 73.068324 172.431946 \nL 84.341051 152.664673 \nL 95.613778 136.191946 \nL 106.886506 123.013764 \nL 118.159233 155.959219 \nL 129.43196 162.54831 \nL 140.704688 132.897401 \nL 151.977415 63.711946 \nL 163.250142 162.54831 \nL 174.522869 103.246491 \nL 185.795597 169.137401 \nL 197.068324 119.719219 \nL 208.341051 139.486491 \nL 219.613778 155.959219 \nL 230.886506 126.30831 \nL 242.159233 123.013764 \nL 253.43196 159.253764 \nL 264.704688 109.835582 \nL 275.977415 215.261037 \nL 287.250142 119.719219 \nL 298.522869 129.602855 \nL 309.795597 198.78831 \nL 321.068324 179.021037 \nL 332.341051 165.842855 \nL 343.613778 202.082855 \nL 354.886506 109.835582 \n\" style=\"fill:none;stroke:#1f77b4;stroke-linecap:square;stroke-width:1.5;\"/>\n   </g>\n   <g id=\"line2d_15\">\n    <path clip-path=\"url(#p8e5a006721)\" d=\"M 50.522869 109.835582 \nL 61.795597 155.959219 \nL 73.068324 185.610128 \nL 84.341051 188.904673 \nL 95.613778 208.671946 \nL 106.886506 126.30831 \nL 118.159233 109.835582 \nL 129.43196 126.30831 \nL 140.704688 116.424673 \nL 151.977415 73.595582 \nL 163.250142 113.130128 \nL 174.522869 119.719219 \nL 185.795597 17.58831 \nL 197.068324 103.246491 \nL 208.341051 123.013764 \nL 219.613778 106.541037 \nL 230.886506 106.541037 \nL 242.159233 57.122855 \nL 253.43196 123.013764 \nL 264.704688 152.664673 \nL 275.977415 126.30831 \nL 287.250142 165.842855 \nL 298.522869 195.493764 \nL 309.795597 202.082855 \nL 321.068324 149.370128 \nL 332.341051 129.602855 \n\" style=\"fill:none;stroke:#ff7f0e;stroke-linecap:square;stroke-width:1.5;\"/>\n   </g>\n   <g id=\"patch_3\">\n    <path d=\"M 35.304688 225.144673 \nL 35.304688 7.704673 \n\" style=\"fill:none;stroke:#000000;stroke-linecap:square;stroke-linejoin:miter;stroke-width:0.8;\"/>\n   </g>\n   <g id=\"patch_4\">\n    <path d=\"M 370.104688 225.144673 \nL 370.104688 7.704673 \n\" style=\"fill:none;stroke:#000000;stroke-linecap:square;stroke-linejoin:miter;stroke-width:0.8;\"/>\n   </g>\n   <g id=\"patch_5\">\n    <path d=\"M 35.304688 225.144673 \nL 370.104688 225.144673 \n\" style=\"fill:none;stroke:#000000;stroke-linecap:square;stroke-linejoin:miter;stroke-width:0.8;\"/>\n   </g>\n   <g id=\"patch_6\">\n    <path d=\"M 35.304688 7.704673 \nL 370.104688 7.704673 \n\" style=\"fill:none;stroke:#000000;stroke-linecap:square;stroke-linejoin:miter;stroke-width:0.8;\"/>\n   </g>\n   <g id=\"legend_1\">\n    <g id=\"patch_7\">\n     <path d=\"M 302.754688 45.060923 \nL 363.104688 45.060923 \nQ 365.104688 45.060923 365.104688 43.060923 \nL 365.104688 14.704673 \nQ 365.104688 12.704673 363.104688 12.704673 \nL 302.754688 12.704673 \nQ 300.754688 12.704673 300.754688 14.704673 \nL 300.754688 43.060923 \nQ 300.754688 45.060923 302.754688 45.060923 \nz\n\" style=\"fill:#ffffff;opacity:0.8;stroke:#cccccc;stroke-linejoin:miter;\"/>\n    </g>\n    <g id=\"line2d_16\">\n     <path d=\"M 304.754688 20.803111 \nL 324.754688 20.803111 \n\" style=\"fill:none;stroke:#1f77b4;stroke-linecap:square;stroke-width:1.5;\"/>\n    </g>\n    <g id=\"line2d_17\"/>\n    <g id=\"text_15\">\n     <!-- away -->\n     <defs>\n      <path d=\"M 34.28125 27.484375 \nQ 23.390625 27.484375 19.1875 25 \nQ 14.984375 22.515625 14.984375 16.5 \nQ 14.984375 11.71875 18.140625 8.90625 \nQ 21.296875 6.109375 26.703125 6.109375 \nQ 34.1875 6.109375 38.703125 11.40625 \nQ 43.21875 16.703125 43.21875 25.484375 \nL 43.21875 27.484375 \nz\nM 52.203125 31.203125 \nL 52.203125 0 \nL 43.21875 0 \nL 43.21875 8.296875 \nQ 40.140625 3.328125 35.546875 0.953125 \nQ 30.953125 -1.421875 24.3125 -1.421875 \nQ 15.921875 -1.421875 10.953125 3.296875 \nQ 6 8.015625 6 15.921875 \nQ 6 25.140625 12.171875 29.828125 \nQ 18.359375 34.515625 30.609375 34.515625 \nL 43.21875 34.515625 \nL 43.21875 35.40625 \nQ 43.21875 41.609375 39.140625 45 \nQ 35.0625 48.390625 27.6875 48.390625 \nQ 23 48.390625 18.546875 47.265625 \nQ 14.109375 46.140625 10.015625 43.890625 \nL 10.015625 52.203125 \nQ 14.9375 54.109375 19.578125 55.046875 \nQ 24.21875 56 28.609375 56 \nQ 40.484375 56 46.34375 49.84375 \nQ 52.203125 43.703125 52.203125 31.203125 \nz\n\" id=\"DejaVuSans-97\"/>\n      <path d=\"M 4.203125 54.6875 \nL 13.1875 54.6875 \nL 24.421875 12.015625 \nL 35.59375 54.6875 \nL 46.1875 54.6875 \nL 57.421875 12.015625 \nL 68.609375 54.6875 \nL 77.59375 54.6875 \nL 63.28125 0 \nL 52.6875 0 \nL 40.921875 44.828125 \nL 29.109375 0 \nL 18.5 0 \nz\n\" id=\"DejaVuSans-119\"/>\n      <path d=\"M 32.171875 -5.078125 \nQ 28.375 -14.84375 24.75 -17.8125 \nQ 21.140625 -20.796875 15.09375 -20.796875 \nL 7.90625 -20.796875 \nL 7.90625 -13.28125 \nL 13.1875 -13.28125 \nQ 16.890625 -13.28125 18.9375 -11.515625 \nQ 21 -9.765625 23.484375 -3.21875 \nL 25.09375 0.875 \nL 2.984375 54.6875 \nL 12.5 54.6875 \nL 29.59375 11.921875 \nL 46.6875 54.6875 \nL 56.203125 54.6875 \nz\n\" id=\"DejaVuSans-121\"/>\n     </defs>\n     <g transform=\"translate(332.754688 24.303111)scale(0.1 -0.1)\">\n      <use xlink:href=\"#DejaVuSans-97\"/>\n      <use x=\"61.279297\" xlink:href=\"#DejaVuSans-119\"/>\n      <use x=\"143.066406\" xlink:href=\"#DejaVuSans-97\"/>\n      <use x=\"204.345703\" xlink:href=\"#DejaVuSans-121\"/>\n     </g>\n    </g>\n    <g id=\"line2d_18\">\n     <path d=\"M 304.754688 35.481236 \nL 324.754688 35.481236 \n\" style=\"fill:none;stroke:#ff7f0e;stroke-linecap:square;stroke-width:1.5;\"/>\n    </g>\n    <g id=\"line2d_19\"/>\n    <g id=\"text_16\">\n     <!-- home -->\n     <defs>\n      <path d=\"M 54.890625 33.015625 \nL 54.890625 0 \nL 45.90625 0 \nL 45.90625 32.71875 \nQ 45.90625 40.484375 42.875 44.328125 \nQ 39.84375 48.1875 33.796875 48.1875 \nQ 26.515625 48.1875 22.3125 43.546875 \nQ 18.109375 38.921875 18.109375 30.90625 \nL 18.109375 0 \nL 9.078125 0 \nL 9.078125 75.984375 \nL 18.109375 75.984375 \nL 18.109375 46.1875 \nQ 21.34375 51.125 25.703125 53.5625 \nQ 30.078125 56 35.796875 56 \nQ 45.21875 56 50.046875 50.171875 \nQ 54.890625 44.34375 54.890625 33.015625 \nz\n\" id=\"DejaVuSans-104\"/>\n      <path d=\"M 30.609375 48.390625 \nQ 23.390625 48.390625 19.1875 42.75 \nQ 14.984375 37.109375 14.984375 27.296875 \nQ 14.984375 17.484375 19.15625 11.84375 \nQ 23.34375 6.203125 30.609375 6.203125 \nQ 37.796875 6.203125 41.984375 11.859375 \nQ 46.1875 17.53125 46.1875 27.296875 \nQ 46.1875 37.015625 41.984375 42.703125 \nQ 37.796875 48.390625 30.609375 48.390625 \nz\nM 30.609375 56 \nQ 42.328125 56 49.015625 48.375 \nQ 55.71875 40.765625 55.71875 27.296875 \nQ 55.71875 13.875 49.015625 6.21875 \nQ 42.328125 -1.421875 30.609375 -1.421875 \nQ 18.84375 -1.421875 12.171875 6.21875 \nQ 5.515625 13.875 5.515625 27.296875 \nQ 5.515625 40.765625 12.171875 48.375 \nQ 18.84375 56 30.609375 56 \nz\n\" id=\"DejaVuSans-111\"/>\n      <path d=\"M 52 44.1875 \nQ 55.375 50.25 60.0625 53.125 \nQ 64.75 56 71.09375 56 \nQ 79.640625 56 84.28125 50.015625 \nQ 88.921875 44.046875 88.921875 33.015625 \nL 88.921875 0 \nL 79.890625 0 \nL 79.890625 32.71875 \nQ 79.890625 40.578125 77.09375 44.375 \nQ 74.3125 48.1875 68.609375 48.1875 \nQ 61.625 48.1875 57.5625 43.546875 \nQ 53.515625 38.921875 53.515625 30.90625 \nL 53.515625 0 \nL 44.484375 0 \nL 44.484375 32.71875 \nQ 44.484375 40.625 41.703125 44.40625 \nQ 38.921875 48.1875 33.109375 48.1875 \nQ 26.21875 48.1875 22.15625 43.53125 \nQ 18.109375 38.875 18.109375 30.90625 \nL 18.109375 0 \nL 9.078125 0 \nL 9.078125 54.6875 \nL 18.109375 54.6875 \nL 18.109375 46.1875 \nQ 21.1875 51.21875 25.484375 53.609375 \nQ 29.78125 56 35.6875 56 \nQ 41.65625 56 45.828125 52.96875 \nQ 50 49.953125 52 44.1875 \nz\n\" id=\"DejaVuSans-109\"/>\n      <path d=\"M 56.203125 29.59375 \nL 56.203125 25.203125 \nL 14.890625 25.203125 \nQ 15.484375 15.921875 20.484375 11.0625 \nQ 25.484375 6.203125 34.421875 6.203125 \nQ 39.59375 6.203125 44.453125 7.46875 \nQ 49.3125 8.734375 54.109375 11.28125 \nL 54.109375 2.78125 \nQ 49.265625 0.734375 44.1875 -0.34375 \nQ 39.109375 -1.421875 33.890625 -1.421875 \nQ 20.796875 -1.421875 13.15625 6.1875 \nQ 5.515625 13.8125 5.515625 26.8125 \nQ 5.515625 40.234375 12.765625 48.109375 \nQ 20.015625 56 32.328125 56 \nQ 43.359375 56 49.78125 48.890625 \nQ 56.203125 41.796875 56.203125 29.59375 \nz\nM 47.21875 32.234375 \nQ 47.125 39.59375 43.09375 43.984375 \nQ 39.0625 48.390625 32.421875 48.390625 \nQ 24.90625 48.390625 20.390625 44.140625 \nQ 15.875 39.890625 15.1875 32.171875 \nz\n\" id=\"DejaVuSans-101\"/>\n     </defs>\n     <g transform=\"translate(332.754688 38.981236)scale(0.1 -0.1)\">\n      <use xlink:href=\"#DejaVuSans-104\"/>\n      <use x=\"63.378906\" xlink:href=\"#DejaVuSans-111\"/>\n      <use x=\"124.560547\" xlink:href=\"#DejaVuSans-109\"/>\n      <use x=\"221.972656\" xlink:href=\"#DejaVuSans-101\"/>\n     </g>\n    </g>\n   </g>\n  </g>\n </g>\n <defs>\n  <clipPath id=\"p8e5a006721\">\n   <rect height=\"217.44\" width=\"334.8\" x=\"35.304688\" y=\"7.704673\"/>\n  </clipPath>\n </defs>\n</svg>\n",
      "image/png": "[encoded data removed]"
     },
     "metadata": {
      "needs_background": "light"
     }
    }
   ],
   "source": [
    "fig, ax = plt.subplots()\n",
    "\n",
    "games_away.plot(x='GAME_DATE',y='PLUS_MINUS', ax=ax)\n",
    "games_home.plot(x='GAME_DATE',y='PLUS_MINUS', ax=ax)\n",
    "ax.legend([\"away\", \"home\"])\n",
    "plt.show()"
   ]
  }
 ],
 "metadata": {
  "kernelspec": {
   "display_name": "Python 3",
   "language": "python",
   "name": "python3"
  },
  "language_info": {
   "codemirror_mode": {
    "name": "ipython",
    "version": 3
   },
   "file_extension": ".py",
   "mimetype": "text/x-python",
   "name": "python",
   "nbconvert_exporter": "python",
   "pygments_lexer": "ipython3",
   "version": "3.8.0-final"
  }
 },
 "nbformat": 4,
 "nbformat_minor": 4
}